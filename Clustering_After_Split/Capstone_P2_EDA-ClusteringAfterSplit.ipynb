{
 "cells": [
  {
   "cell_type": "markdown",
   "id": "23a5e25f-f5a2-4358-99fb-2bc1c84b8d13",
   "metadata": {},
   "source": [
    "<table class=\"table table-bordered\">\n",
    "    <tr>\n",
    "        <th style=\"text-align:center; width:35%\"><img src='https://mma.prnewswire.com/media/1860917/NTUC_LHUB_Logo.jpg' style=\"width: 350px; height: 125px; \"></th>\n",
    "        <th style=\"text-align:center;\"><h1>Project 2 - Healthcare - Predictive Analytics</h1><h2>A Data Analysis using Python -Exploratory Data Analysis </h2><h3></h3></th>\n",
    "    </tr>\n",
    "</table>"
   ]
  },
  {
   "cell_type": "markdown",
   "id": "b57ee349-592f-446d-b946-3bf3076eaafc",
   "metadata": {},
   "source": [
    "# 1. Introduction"
   ]
  },
  {
   "cell_type": "markdown",
   "id": "4ccf262e-fed5-43ed-95e7-1868c69d3dd0",
   "metadata": {},
   "source": [
    "<font color=\"blue\">Business Understanding:\n",
    "\n",
    "<font color=\"blue\">As a healthcare company, we want to identify the customer segment that has high risk of heart disease, so that we can provide the targeted solutions or services to this group of customer. This approach would be more efficient in terms of cost and resources compared to mass marketing approach.\n",
    "\n",
    "<font color=\"blue\">Based on the available customer database, we will clean the data and look for the information that is useful to build our prediction model. Then by using our prediction model, the marketing team can filter down customers who are likely in need of our solutions and services."
   ]
  },
  {
   "cell_type": "code",
   "execution_count": 1,
   "id": "1240d53e-ab48-43d7-865f-c23ba84b0fba",
   "metadata": {},
   "outputs": [],
   "source": [
    "import numpy as np\n",
    "import pandas as pd\n",
    "import matplotlib.pyplot as plt\n",
    "import seaborn as sns"
   ]
  },
  {
   "cell_type": "code",
   "execution_count": 2,
   "id": "cc7d0656-7ece-461f-b52b-05b44b571735",
   "metadata": {},
   "outputs": [
    {
     "name": "stdout",
     "output_type": "stream",
     "text": [
      "This dataset has 70000 rows and 16 columns.\n"
     ]
    }
   ],
   "source": [
    "cardio = pd.read_csv('cardio_data.csv') #Load dataset\n",
    "cardio_backup = cardio.copy() #Create a backup copy of the DataFrame\n",
    "print('This dataset has {} rows and {} columns.'.format(cardio.shape[0],cardio.shape[1]))"
   ]
  },
  {
   "cell_type": "code",
   "execution_count": 3,
   "id": "d7daffbb-6335-4804-8d4e-d8a8c170dbc4",
   "metadata": {},
   "outputs": [
    {
     "data": {
      "text/html": [
       "<div>\n",
       "<style scoped>\n",
       "    .dataframe tbody tr th:only-of-type {\n",
       "        vertical-align: middle;\n",
       "    }\n",
       "\n",
       "    .dataframe tbody tr th {\n",
       "        vertical-align: top;\n",
       "    }\n",
       "\n",
       "    .dataframe thead th {\n",
       "        text-align: right;\n",
       "    }\n",
       "</style>\n",
       "<table border=\"1\" class=\"dataframe\">\n",
       "  <thead>\n",
       "    <tr style=\"text-align: right;\">\n",
       "      <th></th>\n",
       "      <th>date</th>\n",
       "      <th>country</th>\n",
       "      <th>id</th>\n",
       "      <th>active</th>\n",
       "      <th>age</th>\n",
       "      <th>alco</th>\n",
       "      <th>ap_hi</th>\n",
       "      <th>ap_lo</th>\n",
       "      <th>cholesterol</th>\n",
       "      <th>gender</th>\n",
       "      <th>gluc</th>\n",
       "      <th>height</th>\n",
       "      <th>occupation</th>\n",
       "      <th>smoke</th>\n",
       "      <th>weight</th>\n",
       "      <th>disease</th>\n",
       "    </tr>\n",
       "  </thead>\n",
       "  <tbody>\n",
       "    <tr>\n",
       "      <th>0</th>\n",
       "      <td>03-05-2021</td>\n",
       "      <td>Indonesia</td>\n",
       "      <td>0</td>\n",
       "      <td>1</td>\n",
       "      <td>18393</td>\n",
       "      <td>0</td>\n",
       "      <td>110</td>\n",
       "      <td>80</td>\n",
       "      <td>1</td>\n",
       "      <td>2</td>\n",
       "      <td>1</td>\n",
       "      <td>168</td>\n",
       "      <td>Architect</td>\n",
       "      <td>0</td>\n",
       "      <td>62.0</td>\n",
       "      <td>0</td>\n",
       "    </tr>\n",
       "    <tr>\n",
       "      <th>1</th>\n",
       "      <td>05-08-2021</td>\n",
       "      <td>Malaysia</td>\n",
       "      <td>1</td>\n",
       "      <td>1</td>\n",
       "      <td>20228</td>\n",
       "      <td>0</td>\n",
       "      <td>140</td>\n",
       "      <td>90</td>\n",
       "      <td>3</td>\n",
       "      <td>1</td>\n",
       "      <td>1</td>\n",
       "      <td>156</td>\n",
       "      <td>Accountant</td>\n",
       "      <td>0</td>\n",
       "      <td>85.0</td>\n",
       "      <td>1</td>\n",
       "    </tr>\n",
       "    <tr>\n",
       "      <th>2</th>\n",
       "      <td>13-11-2022</td>\n",
       "      <td>Indonesia</td>\n",
       "      <td>2</td>\n",
       "      <td>0</td>\n",
       "      <td>18857</td>\n",
       "      <td>0</td>\n",
       "      <td>130</td>\n",
       "      <td>70</td>\n",
       "      <td>3</td>\n",
       "      <td>1</td>\n",
       "      <td>1</td>\n",
       "      <td>165</td>\n",
       "      <td>Chef</td>\n",
       "      <td>0</td>\n",
       "      <td>64.0</td>\n",
       "      <td>1</td>\n",
       "    </tr>\n",
       "    <tr>\n",
       "      <th>3</th>\n",
       "      <td>31-10-2018</td>\n",
       "      <td>Singapore</td>\n",
       "      <td>3</td>\n",
       "      <td>1</td>\n",
       "      <td>17623</td>\n",
       "      <td>0</td>\n",
       "      <td>150</td>\n",
       "      <td>100</td>\n",
       "      <td>1</td>\n",
       "      <td>2</td>\n",
       "      <td>1</td>\n",
       "      <td>169</td>\n",
       "      <td>Lawyer</td>\n",
       "      <td>0</td>\n",
       "      <td>82.0</td>\n",
       "      <td>1</td>\n",
       "    </tr>\n",
       "    <tr>\n",
       "      <th>4</th>\n",
       "      <td>25-09-2020</td>\n",
       "      <td>Singapore</td>\n",
       "      <td>4</td>\n",
       "      <td>0</td>\n",
       "      <td>17474</td>\n",
       "      <td>0</td>\n",
       "      <td>100</td>\n",
       "      <td>60</td>\n",
       "      <td>1</td>\n",
       "      <td>1</td>\n",
       "      <td>1</td>\n",
       "      <td>156</td>\n",
       "      <td>Architect</td>\n",
       "      <td>0</td>\n",
       "      <td>56.0</td>\n",
       "      <td>0</td>\n",
       "    </tr>\n",
       "  </tbody>\n",
       "</table>\n",
       "</div>"
      ],
      "text/plain": [
       "         date    country  id  active    age  alco  ap_hi  ap_lo  cholesterol  \\\n",
       "0  03-05-2021  Indonesia   0       1  18393     0    110     80            1   \n",
       "1  05-08-2021   Malaysia   1       1  20228     0    140     90            3   \n",
       "2  13-11-2022  Indonesia   2       0  18857     0    130     70            3   \n",
       "3  31-10-2018  Singapore   3       1  17623     0    150    100            1   \n",
       "4  25-09-2020  Singapore   4       0  17474     0    100     60            1   \n",
       "\n",
       "   gender  gluc  height  occupation  smoke  weight  disease  \n",
       "0       2     1     168   Architect      0    62.0        0  \n",
       "1       1     1     156  Accountant      0    85.0        1  \n",
       "2       1     1     165        Chef      0    64.0        1  \n",
       "3       2     1     169      Lawyer      0    82.0        1  \n",
       "4       1     1     156   Architect      0    56.0        0  "
      ]
     },
     "execution_count": 3,
     "metadata": {},
     "output_type": "execute_result"
    }
   ],
   "source": [
    "cardio.head()"
   ]
  },
  {
   "cell_type": "markdown",
   "id": "3bb184ad-a055-4ee7-9440-bce5434dc12e",
   "metadata": {},
   "source": [
    "<font color=\"blue\">This dataset gives information about the influence of various factors on the heart disease. Column description is as below."
   ]
  },
  {
   "cell_type": "markdown",
   "id": "05a9cfdf-8e3d-46ca-9441-c0f2c2bb2515",
   "metadata": {},
   "source": [
    "|Column Name|Description|Type|Unit|\n",
    "|-----------|-----------|----|----|\n",
    "|date|The date on which examination was done.|DATE|-|\n",
    "|country|The country name of the patient.|STRING|-|\n",
    "|id|The unique ID of the patient.|INT|-|\n",
    "|active|The physical activity of the patient.|BINARY|-|\n",
    "|age|The age of the patient.|INT|DAYS|\n",
    "|alco|Alcohol intake.|BINARY|-|\n",
    "|ap_hi|Systolic blood pressure.|INT|-|\n",
    "|ap-lo|Diastolic blood pressure.|INT|-|\n",
    "|cholesterol|Cholesterol level of the patient.|INT|-|\n",
    "|gender|The gender of the patient.|STRING|-|\n",
    "|gluc|Glucose level of the patient.|INT|-|\n",
    "|height|Height of the patient.|INT|CM|\n",
    "|occupation|Occupation of the patient|STRING|-|\n",
    "|smoke|Presence of smoking|BINARY|-|\n",
    "|weight|Weight of the patient.|FLOAT|KG|\n",
    "|disease|Presence of disease (Target Variable)|BINARY|-|"
   ]
  },
  {
   "cell_type": "markdown",
   "id": "10ee04d6-8fac-461f-ae45-38d974bae4c0",
   "metadata": {},
   "source": [
    "# 2. Data Exploration"
   ]
  },
  {
   "cell_type": "code",
   "execution_count": 4,
   "id": "8add4f39-4895-4444-8f20-8f32419bcd27",
   "metadata": {},
   "outputs": [
    {
     "name": "stdout",
     "output_type": "stream",
     "text": [
      "<class 'pandas.core.frame.DataFrame'>\n",
      "RangeIndex: 70000 entries, 0 to 69999\n",
      "Data columns (total 16 columns):\n",
      " #   Column       Non-Null Count  Dtype  \n",
      "---  ------       --------------  -----  \n",
      " 0   date         70000 non-null  object \n",
      " 1   country      70000 non-null  object \n",
      " 2   id           70000 non-null  int64  \n",
      " 3   active       70000 non-null  int64  \n",
      " 4   age          70000 non-null  int64  \n",
      " 5   alco         70000 non-null  int64  \n",
      " 6   ap_hi        70000 non-null  int64  \n",
      " 7   ap_lo        70000 non-null  int64  \n",
      " 8   cholesterol  70000 non-null  int64  \n",
      " 9   gender       70000 non-null  int64  \n",
      " 10  gluc         70000 non-null  int64  \n",
      " 11  height       70000 non-null  int64  \n",
      " 12  occupation   70000 non-null  object \n",
      " 13  smoke        70000 non-null  int64  \n",
      " 14  weight       70000 non-null  float64\n",
      " 15  disease      70000 non-null  int64  \n",
      "dtypes: float64(1), int64(12), object(3)\n",
      "memory usage: 8.5+ MB\n"
     ]
    }
   ],
   "source": [
    "cardio.info()"
   ]
  },
  {
   "cell_type": "markdown",
   "id": "1edafb37-ae58-4e18-b2d5-510d38517dd5",
   "metadata": {},
   "source": [
    "<font color=\"blue\">All data types for each column is correct except for 'date'."
   ]
  },
  {
   "cell_type": "code",
   "execution_count": 5,
   "id": "9fcb1e16-5707-46f6-8e0d-5f3ed9e15296",
   "metadata": {},
   "outputs": [
    {
     "data": {
      "text/plain": [
       "date           0\n",
       "country        0\n",
       "id             0\n",
       "active         0\n",
       "age            0\n",
       "alco           0\n",
       "ap_hi          0\n",
       "ap_lo          0\n",
       "cholesterol    0\n",
       "gender         0\n",
       "gluc           0\n",
       "height         0\n",
       "occupation     0\n",
       "smoke          0\n",
       "weight         0\n",
       "disease        0\n",
       "dtype: int64"
      ]
     },
     "execution_count": 5,
     "metadata": {},
     "output_type": "execute_result"
    }
   ],
   "source": [
    "cardio.isnull().sum()"
   ]
  },
  {
   "cell_type": "markdown",
   "id": "fbf7832e-2b5c-4d8c-accb-572bd4787d83",
   "metadata": {},
   "source": [
    "<font color=\"blue\">There is no missing data for all columns."
   ]
  },
  {
   "cell_type": "markdown",
   "id": "8245e3d6-2a1f-4b6d-9eda-c3ba36d2f3d9",
   "metadata": {},
   "source": [
    "<font color=\"blue\">The 'age' column is in the unit of 'days', we will convert to the unit in 'years'."
   ]
  },
  {
   "cell_type": "code",
   "execution_count": 6,
   "id": "38d45662-9812-4436-bfb8-8c963d3642bf",
   "metadata": {},
   "outputs": [
    {
     "data": {
      "text/html": [
       "<div>\n",
       "<style scoped>\n",
       "    .dataframe tbody tr th:only-of-type {\n",
       "        vertical-align: middle;\n",
       "    }\n",
       "\n",
       "    .dataframe tbody tr th {\n",
       "        vertical-align: top;\n",
       "    }\n",
       "\n",
       "    .dataframe thead th {\n",
       "        text-align: right;\n",
       "    }\n",
       "</style>\n",
       "<table border=\"1\" class=\"dataframe\">\n",
       "  <thead>\n",
       "    <tr style=\"text-align: right;\">\n",
       "      <th></th>\n",
       "      <th>date</th>\n",
       "      <th>country</th>\n",
       "      <th>id</th>\n",
       "      <th>active</th>\n",
       "      <th>age</th>\n",
       "      <th>alco</th>\n",
       "      <th>ap_hi</th>\n",
       "      <th>ap_lo</th>\n",
       "      <th>cholesterol</th>\n",
       "      <th>gender</th>\n",
       "      <th>gluc</th>\n",
       "      <th>height</th>\n",
       "      <th>occupation</th>\n",
       "      <th>smoke</th>\n",
       "      <th>weight</th>\n",
       "      <th>disease</th>\n",
       "      <th>age(yr)</th>\n",
       "    </tr>\n",
       "  </thead>\n",
       "  <tbody>\n",
       "    <tr>\n",
       "      <th>0</th>\n",
       "      <td>03-05-2021</td>\n",
       "      <td>Indonesia</td>\n",
       "      <td>0</td>\n",
       "      <td>1</td>\n",
       "      <td>18393</td>\n",
       "      <td>0</td>\n",
       "      <td>110</td>\n",
       "      <td>80</td>\n",
       "      <td>1</td>\n",
       "      <td>2</td>\n",
       "      <td>1</td>\n",
       "      <td>168</td>\n",
       "      <td>Architect</td>\n",
       "      <td>0</td>\n",
       "      <td>62.0</td>\n",
       "      <td>0</td>\n",
       "      <td>50</td>\n",
       "    </tr>\n",
       "    <tr>\n",
       "      <th>1</th>\n",
       "      <td>05-08-2021</td>\n",
       "      <td>Malaysia</td>\n",
       "      <td>1</td>\n",
       "      <td>1</td>\n",
       "      <td>20228</td>\n",
       "      <td>0</td>\n",
       "      <td>140</td>\n",
       "      <td>90</td>\n",
       "      <td>3</td>\n",
       "      <td>1</td>\n",
       "      <td>1</td>\n",
       "      <td>156</td>\n",
       "      <td>Accountant</td>\n",
       "      <td>0</td>\n",
       "      <td>85.0</td>\n",
       "      <td>1</td>\n",
       "      <td>55</td>\n",
       "    </tr>\n",
       "    <tr>\n",
       "      <th>2</th>\n",
       "      <td>13-11-2022</td>\n",
       "      <td>Indonesia</td>\n",
       "      <td>2</td>\n",
       "      <td>0</td>\n",
       "      <td>18857</td>\n",
       "      <td>0</td>\n",
       "      <td>130</td>\n",
       "      <td>70</td>\n",
       "      <td>3</td>\n",
       "      <td>1</td>\n",
       "      <td>1</td>\n",
       "      <td>165</td>\n",
       "      <td>Chef</td>\n",
       "      <td>0</td>\n",
       "      <td>64.0</td>\n",
       "      <td>1</td>\n",
       "      <td>51</td>\n",
       "    </tr>\n",
       "    <tr>\n",
       "      <th>3</th>\n",
       "      <td>31-10-2018</td>\n",
       "      <td>Singapore</td>\n",
       "      <td>3</td>\n",
       "      <td>1</td>\n",
       "      <td>17623</td>\n",
       "      <td>0</td>\n",
       "      <td>150</td>\n",
       "      <td>100</td>\n",
       "      <td>1</td>\n",
       "      <td>2</td>\n",
       "      <td>1</td>\n",
       "      <td>169</td>\n",
       "      <td>Lawyer</td>\n",
       "      <td>0</td>\n",
       "      <td>82.0</td>\n",
       "      <td>1</td>\n",
       "      <td>48</td>\n",
       "    </tr>\n",
       "    <tr>\n",
       "      <th>4</th>\n",
       "      <td>25-09-2020</td>\n",
       "      <td>Singapore</td>\n",
       "      <td>4</td>\n",
       "      <td>0</td>\n",
       "      <td>17474</td>\n",
       "      <td>0</td>\n",
       "      <td>100</td>\n",
       "      <td>60</td>\n",
       "      <td>1</td>\n",
       "      <td>1</td>\n",
       "      <td>1</td>\n",
       "      <td>156</td>\n",
       "      <td>Architect</td>\n",
       "      <td>0</td>\n",
       "      <td>56.0</td>\n",
       "      <td>0</td>\n",
       "      <td>47</td>\n",
       "    </tr>\n",
       "  </tbody>\n",
       "</table>\n",
       "</div>"
      ],
      "text/plain": [
       "         date    country  id  active    age  alco  ap_hi  ap_lo  cholesterol  \\\n",
       "0  03-05-2021  Indonesia   0       1  18393     0    110     80            1   \n",
       "1  05-08-2021   Malaysia   1       1  20228     0    140     90            3   \n",
       "2  13-11-2022  Indonesia   2       0  18857     0    130     70            3   \n",
       "3  31-10-2018  Singapore   3       1  17623     0    150    100            1   \n",
       "4  25-09-2020  Singapore   4       0  17474     0    100     60            1   \n",
       "\n",
       "   gender  gluc  height  occupation  smoke  weight  disease  age(yr)  \n",
       "0       2     1     168   Architect      0    62.0        0       50  \n",
       "1       1     1     156  Accountant      0    85.0        1       55  \n",
       "2       1     1     165        Chef      0    64.0        1       51  \n",
       "3       2     1     169      Lawyer      0    82.0        1       48  \n",
       "4       1     1     156   Architect      0    56.0        0       47  "
      ]
     },
     "execution_count": 6,
     "metadata": {},
     "output_type": "execute_result"
    }
   ],
   "source": [
    "cardio['age(yr)']=cardio['age']/365\n",
    "cardio['age(yr)'] = cardio['age(yr)'].astype('int64')\n",
    "cardio.head()"
   ]
  },
  {
   "cell_type": "markdown",
   "id": "e8884a91-c2d0-4fba-93bc-6a20d356f168",
   "metadata": {},
   "source": [
    "<font color=\"blue\">'date' column will be removed as it does not have any influence to heart disease. We will also remove 'age' column that has been replaced by age(yr)."
   ]
  },
  {
   "cell_type": "code",
   "execution_count": 7,
   "id": "4a7b2224-a624-4e5c-9e0c-88f0b109b53d",
   "metadata": {},
   "outputs": [
    {
     "data": {
      "text/html": [
       "<div>\n",
       "<style scoped>\n",
       "    .dataframe tbody tr th:only-of-type {\n",
       "        vertical-align: middle;\n",
       "    }\n",
       "\n",
       "    .dataframe tbody tr th {\n",
       "        vertical-align: top;\n",
       "    }\n",
       "\n",
       "    .dataframe thead th {\n",
       "        text-align: right;\n",
       "    }\n",
       "</style>\n",
       "<table border=\"1\" class=\"dataframe\">\n",
       "  <thead>\n",
       "    <tr style=\"text-align: right;\">\n",
       "      <th></th>\n",
       "      <th>country</th>\n",
       "      <th>id</th>\n",
       "      <th>active</th>\n",
       "      <th>alco</th>\n",
       "      <th>ap_hi</th>\n",
       "      <th>ap_lo</th>\n",
       "      <th>cholesterol</th>\n",
       "      <th>gender</th>\n",
       "      <th>gluc</th>\n",
       "      <th>height</th>\n",
       "      <th>occupation</th>\n",
       "      <th>smoke</th>\n",
       "      <th>weight</th>\n",
       "      <th>disease</th>\n",
       "      <th>age(yr)</th>\n",
       "    </tr>\n",
       "  </thead>\n",
       "  <tbody>\n",
       "    <tr>\n",
       "      <th>0</th>\n",
       "      <td>Indonesia</td>\n",
       "      <td>0</td>\n",
       "      <td>1</td>\n",
       "      <td>0</td>\n",
       "      <td>110</td>\n",
       "      <td>80</td>\n",
       "      <td>1</td>\n",
       "      <td>2</td>\n",
       "      <td>1</td>\n",
       "      <td>168</td>\n",
       "      <td>Architect</td>\n",
       "      <td>0</td>\n",
       "      <td>62.0</td>\n",
       "      <td>0</td>\n",
       "      <td>50</td>\n",
       "    </tr>\n",
       "    <tr>\n",
       "      <th>1</th>\n",
       "      <td>Malaysia</td>\n",
       "      <td>1</td>\n",
       "      <td>1</td>\n",
       "      <td>0</td>\n",
       "      <td>140</td>\n",
       "      <td>90</td>\n",
       "      <td>3</td>\n",
       "      <td>1</td>\n",
       "      <td>1</td>\n",
       "      <td>156</td>\n",
       "      <td>Accountant</td>\n",
       "      <td>0</td>\n",
       "      <td>85.0</td>\n",
       "      <td>1</td>\n",
       "      <td>55</td>\n",
       "    </tr>\n",
       "    <tr>\n",
       "      <th>2</th>\n",
       "      <td>Indonesia</td>\n",
       "      <td>2</td>\n",
       "      <td>0</td>\n",
       "      <td>0</td>\n",
       "      <td>130</td>\n",
       "      <td>70</td>\n",
       "      <td>3</td>\n",
       "      <td>1</td>\n",
       "      <td>1</td>\n",
       "      <td>165</td>\n",
       "      <td>Chef</td>\n",
       "      <td>0</td>\n",
       "      <td>64.0</td>\n",
       "      <td>1</td>\n",
       "      <td>51</td>\n",
       "    </tr>\n",
       "    <tr>\n",
       "      <th>3</th>\n",
       "      <td>Singapore</td>\n",
       "      <td>3</td>\n",
       "      <td>1</td>\n",
       "      <td>0</td>\n",
       "      <td>150</td>\n",
       "      <td>100</td>\n",
       "      <td>1</td>\n",
       "      <td>2</td>\n",
       "      <td>1</td>\n",
       "      <td>169</td>\n",
       "      <td>Lawyer</td>\n",
       "      <td>0</td>\n",
       "      <td>82.0</td>\n",
       "      <td>1</td>\n",
       "      <td>48</td>\n",
       "    </tr>\n",
       "    <tr>\n",
       "      <th>4</th>\n",
       "      <td>Singapore</td>\n",
       "      <td>4</td>\n",
       "      <td>0</td>\n",
       "      <td>0</td>\n",
       "      <td>100</td>\n",
       "      <td>60</td>\n",
       "      <td>1</td>\n",
       "      <td>1</td>\n",
       "      <td>1</td>\n",
       "      <td>156</td>\n",
       "      <td>Architect</td>\n",
       "      <td>0</td>\n",
       "      <td>56.0</td>\n",
       "      <td>0</td>\n",
       "      <td>47</td>\n",
       "    </tr>\n",
       "  </tbody>\n",
       "</table>\n",
       "</div>"
      ],
      "text/plain": [
       "     country  id  active  alco  ap_hi  ap_lo  cholesterol  gender  gluc  \\\n",
       "0  Indonesia   0       1     0    110     80            1       2     1   \n",
       "1   Malaysia   1       1     0    140     90            3       1     1   \n",
       "2  Indonesia   2       0     0    130     70            3       1     1   \n",
       "3  Singapore   3       1     0    150    100            1       2     1   \n",
       "4  Singapore   4       0     0    100     60            1       1     1   \n",
       "\n",
       "   height  occupation  smoke  weight  disease  age(yr)  \n",
       "0     168   Architect      0    62.0        0       50  \n",
       "1     156  Accountant      0    85.0        1       55  \n",
       "2     165        Chef      0    64.0        1       51  \n",
       "3     169      Lawyer      0    82.0        1       48  \n",
       "4     156   Architect      0    56.0        0       47  "
      ]
     },
     "execution_count": 7,
     "metadata": {},
     "output_type": "execute_result"
    }
   ],
   "source": [
    "cardio.drop(['date','age'],axis=1,inplace=True)\n",
    "cardio.head()"
   ]
  },
  {
   "cell_type": "code",
   "execution_count": 8,
   "id": "a534c392-9c89-4734-bdd5-ed0ae333ebcc",
   "metadata": {},
   "outputs": [
    {
     "data": {
      "text/html": [
       "<div>\n",
       "<style scoped>\n",
       "    .dataframe tbody tr th:only-of-type {\n",
       "        vertical-align: middle;\n",
       "    }\n",
       "\n",
       "    .dataframe tbody tr th {\n",
       "        vertical-align: top;\n",
       "    }\n",
       "\n",
       "    .dataframe thead th {\n",
       "        text-align: right;\n",
       "    }\n",
       "</style>\n",
       "<table border=\"1\" class=\"dataframe\">\n",
       "  <thead>\n",
       "    <tr style=\"text-align: right;\">\n",
       "      <th></th>\n",
       "      <th>count</th>\n",
       "      <th>unique</th>\n",
       "      <th>top</th>\n",
       "      <th>freq</th>\n",
       "      <th>mean</th>\n",
       "      <th>std</th>\n",
       "      <th>min</th>\n",
       "      <th>25%</th>\n",
       "      <th>50%</th>\n",
       "      <th>75%</th>\n",
       "      <th>max</th>\n",
       "    </tr>\n",
       "  </thead>\n",
       "  <tbody>\n",
       "    <tr>\n",
       "      <th>country</th>\n",
       "      <td>70000</td>\n",
       "      <td>4</td>\n",
       "      <td>Singapore</td>\n",
       "      <td>17671</td>\n",
       "      <td>NaN</td>\n",
       "      <td>NaN</td>\n",
       "      <td>NaN</td>\n",
       "      <td>NaN</td>\n",
       "      <td>NaN</td>\n",
       "      <td>NaN</td>\n",
       "      <td>NaN</td>\n",
       "    </tr>\n",
       "    <tr>\n",
       "      <th>id</th>\n",
       "      <td>70000.0</td>\n",
       "      <td>NaN</td>\n",
       "      <td>NaN</td>\n",
       "      <td>NaN</td>\n",
       "      <td>49972.4199</td>\n",
       "      <td>28851.302323</td>\n",
       "      <td>0.0</td>\n",
       "      <td>25006.75</td>\n",
       "      <td>50001.5</td>\n",
       "      <td>74889.25</td>\n",
       "      <td>99999.0</td>\n",
       "    </tr>\n",
       "    <tr>\n",
       "      <th>active</th>\n",
       "      <td>70000.0</td>\n",
       "      <td>NaN</td>\n",
       "      <td>NaN</td>\n",
       "      <td>NaN</td>\n",
       "      <td>0.803729</td>\n",
       "      <td>0.397179</td>\n",
       "      <td>0.0</td>\n",
       "      <td>1.0</td>\n",
       "      <td>1.0</td>\n",
       "      <td>1.0</td>\n",
       "      <td>1.0</td>\n",
       "    </tr>\n",
       "    <tr>\n",
       "      <th>alco</th>\n",
       "      <td>70000.0</td>\n",
       "      <td>NaN</td>\n",
       "      <td>NaN</td>\n",
       "      <td>NaN</td>\n",
       "      <td>0.053771</td>\n",
       "      <td>0.225568</td>\n",
       "      <td>0.0</td>\n",
       "      <td>0.0</td>\n",
       "      <td>0.0</td>\n",
       "      <td>0.0</td>\n",
       "      <td>1.0</td>\n",
       "    </tr>\n",
       "    <tr>\n",
       "      <th>ap_hi</th>\n",
       "      <td>70000.0</td>\n",
       "      <td>NaN</td>\n",
       "      <td>NaN</td>\n",
       "      <td>NaN</td>\n",
       "      <td>128.817286</td>\n",
       "      <td>154.011419</td>\n",
       "      <td>-150.0</td>\n",
       "      <td>120.0</td>\n",
       "      <td>120.0</td>\n",
       "      <td>140.0</td>\n",
       "      <td>16020.0</td>\n",
       "    </tr>\n",
       "    <tr>\n",
       "      <th>ap_lo</th>\n",
       "      <td>70000.0</td>\n",
       "      <td>NaN</td>\n",
       "      <td>NaN</td>\n",
       "      <td>NaN</td>\n",
       "      <td>96.630414</td>\n",
       "      <td>188.47253</td>\n",
       "      <td>-70.0</td>\n",
       "      <td>80.0</td>\n",
       "      <td>80.0</td>\n",
       "      <td>90.0</td>\n",
       "      <td>11000.0</td>\n",
       "    </tr>\n",
       "    <tr>\n",
       "      <th>cholesterol</th>\n",
       "      <td>70000.0</td>\n",
       "      <td>NaN</td>\n",
       "      <td>NaN</td>\n",
       "      <td>NaN</td>\n",
       "      <td>1.366871</td>\n",
       "      <td>0.68025</td>\n",
       "      <td>1.0</td>\n",
       "      <td>1.0</td>\n",
       "      <td>1.0</td>\n",
       "      <td>2.0</td>\n",
       "      <td>3.0</td>\n",
       "    </tr>\n",
       "    <tr>\n",
       "      <th>gender</th>\n",
       "      <td>70000.0</td>\n",
       "      <td>NaN</td>\n",
       "      <td>NaN</td>\n",
       "      <td>NaN</td>\n",
       "      <td>1.349571</td>\n",
       "      <td>0.476838</td>\n",
       "      <td>1.0</td>\n",
       "      <td>1.0</td>\n",
       "      <td>1.0</td>\n",
       "      <td>2.0</td>\n",
       "      <td>2.0</td>\n",
       "    </tr>\n",
       "    <tr>\n",
       "      <th>gluc</th>\n",
       "      <td>70000.0</td>\n",
       "      <td>NaN</td>\n",
       "      <td>NaN</td>\n",
       "      <td>NaN</td>\n",
       "      <td>1.226457</td>\n",
       "      <td>0.57227</td>\n",
       "      <td>1.0</td>\n",
       "      <td>1.0</td>\n",
       "      <td>1.0</td>\n",
       "      <td>1.0</td>\n",
       "      <td>3.0</td>\n",
       "    </tr>\n",
       "    <tr>\n",
       "      <th>height</th>\n",
       "      <td>70000.0</td>\n",
       "      <td>NaN</td>\n",
       "      <td>NaN</td>\n",
       "      <td>NaN</td>\n",
       "      <td>164.359229</td>\n",
       "      <td>8.210126</td>\n",
       "      <td>55.0</td>\n",
       "      <td>159.0</td>\n",
       "      <td>165.0</td>\n",
       "      <td>170.0</td>\n",
       "      <td>250.0</td>\n",
       "    </tr>\n",
       "    <tr>\n",
       "      <th>occupation</th>\n",
       "      <td>70000</td>\n",
       "      <td>9</td>\n",
       "      <td>Nurse</td>\n",
       "      <td>7905</td>\n",
       "      <td>NaN</td>\n",
       "      <td>NaN</td>\n",
       "      <td>NaN</td>\n",
       "      <td>NaN</td>\n",
       "      <td>NaN</td>\n",
       "      <td>NaN</td>\n",
       "      <td>NaN</td>\n",
       "    </tr>\n",
       "    <tr>\n",
       "      <th>smoke</th>\n",
       "      <td>70000.0</td>\n",
       "      <td>NaN</td>\n",
       "      <td>NaN</td>\n",
       "      <td>NaN</td>\n",
       "      <td>0.088129</td>\n",
       "      <td>0.283484</td>\n",
       "      <td>0.0</td>\n",
       "      <td>0.0</td>\n",
       "      <td>0.0</td>\n",
       "      <td>0.0</td>\n",
       "      <td>1.0</td>\n",
       "    </tr>\n",
       "    <tr>\n",
       "      <th>weight</th>\n",
       "      <td>70000.0</td>\n",
       "      <td>NaN</td>\n",
       "      <td>NaN</td>\n",
       "      <td>NaN</td>\n",
       "      <td>74.20569</td>\n",
       "      <td>14.395757</td>\n",
       "      <td>10.0</td>\n",
       "      <td>65.0</td>\n",
       "      <td>72.0</td>\n",
       "      <td>82.0</td>\n",
       "      <td>200.0</td>\n",
       "    </tr>\n",
       "    <tr>\n",
       "      <th>disease</th>\n",
       "      <td>70000.0</td>\n",
       "      <td>NaN</td>\n",
       "      <td>NaN</td>\n",
       "      <td>NaN</td>\n",
       "      <td>0.4997</td>\n",
       "      <td>0.500003</td>\n",
       "      <td>0.0</td>\n",
       "      <td>0.0</td>\n",
       "      <td>0.0</td>\n",
       "      <td>1.0</td>\n",
       "      <td>1.0</td>\n",
       "    </tr>\n",
       "    <tr>\n",
       "      <th>age(yr)</th>\n",
       "      <td>70000.0</td>\n",
       "      <td>NaN</td>\n",
       "      <td>NaN</td>\n",
       "      <td>NaN</td>\n",
       "      <td>52.840671</td>\n",
       "      <td>6.766774</td>\n",
       "      <td>29.0</td>\n",
       "      <td>48.0</td>\n",
       "      <td>53.0</td>\n",
       "      <td>58.0</td>\n",
       "      <td>64.0</td>\n",
       "    </tr>\n",
       "  </tbody>\n",
       "</table>\n",
       "</div>"
      ],
      "text/plain": [
       "               count unique        top   freq        mean           std  \\\n",
       "country        70000      4  Singapore  17671         NaN           NaN   \n",
       "id           70000.0    NaN        NaN    NaN  49972.4199  28851.302323   \n",
       "active       70000.0    NaN        NaN    NaN    0.803729      0.397179   \n",
       "alco         70000.0    NaN        NaN    NaN    0.053771      0.225568   \n",
       "ap_hi        70000.0    NaN        NaN    NaN  128.817286    154.011419   \n",
       "ap_lo        70000.0    NaN        NaN    NaN   96.630414     188.47253   \n",
       "cholesterol  70000.0    NaN        NaN    NaN    1.366871       0.68025   \n",
       "gender       70000.0    NaN        NaN    NaN    1.349571      0.476838   \n",
       "gluc         70000.0    NaN        NaN    NaN    1.226457       0.57227   \n",
       "height       70000.0    NaN        NaN    NaN  164.359229      8.210126   \n",
       "occupation     70000      9      Nurse   7905         NaN           NaN   \n",
       "smoke        70000.0    NaN        NaN    NaN    0.088129      0.283484   \n",
       "weight       70000.0    NaN        NaN    NaN    74.20569     14.395757   \n",
       "disease      70000.0    NaN        NaN    NaN      0.4997      0.500003   \n",
       "age(yr)      70000.0    NaN        NaN    NaN   52.840671      6.766774   \n",
       "\n",
       "               min       25%      50%       75%      max  \n",
       "country        NaN       NaN      NaN       NaN      NaN  \n",
       "id             0.0  25006.75  50001.5  74889.25  99999.0  \n",
       "active         0.0       1.0      1.0       1.0      1.0  \n",
       "alco           0.0       0.0      0.0       0.0      1.0  \n",
       "ap_hi       -150.0     120.0    120.0     140.0  16020.0  \n",
       "ap_lo        -70.0      80.0     80.0      90.0  11000.0  \n",
       "cholesterol    1.0       1.0      1.0       2.0      3.0  \n",
       "gender         1.0       1.0      1.0       2.0      2.0  \n",
       "gluc           1.0       1.0      1.0       1.0      3.0  \n",
       "height        55.0     159.0    165.0     170.0    250.0  \n",
       "occupation     NaN       NaN      NaN       NaN      NaN  \n",
       "smoke          0.0       0.0      0.0       0.0      1.0  \n",
       "weight        10.0      65.0     72.0      82.0    200.0  \n",
       "disease        0.0       0.0      0.0       1.0      1.0  \n",
       "age(yr)       29.0      48.0     53.0      58.0     64.0  "
      ]
     },
     "execution_count": 8,
     "metadata": {},
     "output_type": "execute_result"
    }
   ],
   "source": [
    "cardio.describe(include='all').T"
   ]
  },
  {
   "cell_type": "markdown",
   "id": "c512f42e-7a6a-4157-883d-fafb810a78f5",
   "metadata": {},
   "source": [
    "<font color=\"blue\">There are 4 countries and 9 occupations in this dataset, with Singapore and Nurse having highest frequency."
   ]
  },
  {
   "cell_type": "code",
   "execution_count": 9,
   "id": "3b05f8aa-7032-4c76-80cb-88a36fb39838",
   "metadata": {},
   "outputs": [
    {
     "data": {
      "text/plain": [
       "country\n",
       "Singapore    17671\n",
       "Indonesia    17501\n",
       "Malaysia     17426\n",
       "India        17402\n",
       "Name: count, dtype: int64"
      ]
     },
     "execution_count": 9,
     "metadata": {},
     "output_type": "execute_result"
    }
   ],
   "source": [
    "cardio['country'].value_counts()"
   ]
  },
  {
   "cell_type": "code",
   "execution_count": 10,
   "id": "79fe7ddd-ed58-4f13-b2de-a56574f8ae21",
   "metadata": {},
   "outputs": [
    {
     "data": {
      "text/plain": [
       "occupation\n",
       "Nurse         7905\n",
       "Accountant    7879\n",
       "Architect     7869\n",
       "Others        7813\n",
       "Lawyer        7753\n",
       "Chef          7723\n",
       "Engineer      7707\n",
       "Teacher       7683\n",
       "Doctor        7668\n",
       "Name: count, dtype: int64"
      ]
     },
     "execution_count": 10,
     "metadata": {},
     "output_type": "execute_result"
    }
   ],
   "source": [
    "cardio['occupation'].value_counts()"
   ]
  },
  {
   "cell_type": "markdown",
   "id": "7b59f1d8-21b3-4c59-9f9b-9e04a3b4bd95",
   "metadata": {},
   "source": [
    "<font color=\"blue\">We confirmed there is no wrong data labels for 'country' and 'occupation' columns."
   ]
  },
  {
   "cell_type": "code",
   "execution_count": 11,
   "id": "6ae8cbc9-5f41-436e-ae42-dd000528abc5",
   "metadata": {},
   "outputs": [
    {
     "data": {
      "text/plain": [
       "([<matplotlib.axis.XTick at 0x207d1e9a650>,\n",
       "  <matplotlib.axis.XTick at 0x207d29a6d10>],\n",
       " [Text(0, 0, 'No heart disease'), Text(1, 0, 'Has heart disease')])"
      ]
     },
     "execution_count": 11,
     "metadata": {},
     "output_type": "execute_result"
    },
    {
     "data": {
      "image/png": "[encoded data removed]",
      "text/plain": [
       "<Figure size 640x480 with 1 Axes>"
      ]
     },
     "metadata": {},
     "output_type": "display_data"
    }
   ],
   "source": [
    "sns.countplot(x='disease',data=cardio)\n",
    "plt.xticks([0,1],['No heart disease','Has heart disease'])"
   ]
  },
  {
   "cell_type": "markdown",
   "id": "56f0d7ff-9f82-4509-82d2-55849ed31651",
   "metadata": {},
   "source": [
    "<font color=\"blue\">The chart shows that population of disease and no disease are same. This indicates the data given may not be real world data or might have been adjusted. "
   ]
  },
  {
   "cell_type": "code",
   "execution_count": 12,
   "id": "f7dcadf2-1d27-435c-89cd-86509cca9439",
   "metadata": {},
   "outputs": [
    {
     "data": {
      "text/plain": [
       "disease\n",
       "0    35021\n",
       "1    34979\n",
       "Name: count, dtype: int64"
      ]
     },
     "execution_count": 12,
     "metadata": {},
     "output_type": "execute_result"
    }
   ],
   "source": [
    "cardio['disease'].value_counts()"
   ]
  },
  {
   "cell_type": "markdown",
   "id": "ddfbdb94-a431-4f6e-95dc-e87dcac9f617",
   "metadata": {},
   "source": [
    "### 2.1 Numeric Data"
   ]
  },
  {
   "cell_type": "code",
   "execution_count": 13,
   "id": "c8655145-c13d-46cf-aa2a-f0d27bd4333c",
   "metadata": {},
   "outputs": [
    {
     "data": {
      "text/html": [
       "<div>\n",
       "<style scoped>\n",
       "    .dataframe tbody tr th:only-of-type {\n",
       "        vertical-align: middle;\n",
       "    }\n",
       "\n",
       "    .dataframe tbody tr th {\n",
       "        vertical-align: top;\n",
       "    }\n",
       "\n",
       "    .dataframe thead th {\n",
       "        text-align: right;\n",
       "    }\n",
       "</style>\n",
       "<table border=\"1\" class=\"dataframe\">\n",
       "  <thead>\n",
       "    <tr style=\"text-align: right;\">\n",
       "      <th></th>\n",
       "      <th>count</th>\n",
       "      <th>mean</th>\n",
       "      <th>std</th>\n",
       "      <th>min</th>\n",
       "      <th>25%</th>\n",
       "      <th>50%</th>\n",
       "      <th>75%</th>\n",
       "      <th>max</th>\n",
       "    </tr>\n",
       "  </thead>\n",
       "  <tbody>\n",
       "    <tr>\n",
       "      <th>id</th>\n",
       "      <td>70000.0</td>\n",
       "      <td>49972.419900</td>\n",
       "      <td>28851.302323</td>\n",
       "      <td>0.0</td>\n",
       "      <td>25006.75</td>\n",
       "      <td>50001.5</td>\n",
       "      <td>74889.25</td>\n",
       "      <td>99999.0</td>\n",
       "    </tr>\n",
       "    <tr>\n",
       "      <th>active</th>\n",
       "      <td>70000.0</td>\n",
       "      <td>0.803729</td>\n",
       "      <td>0.397179</td>\n",
       "      <td>0.0</td>\n",
       "      <td>1.00</td>\n",
       "      <td>1.0</td>\n",
       "      <td>1.00</td>\n",
       "      <td>1.0</td>\n",
       "    </tr>\n",
       "    <tr>\n",
       "      <th>alco</th>\n",
       "      <td>70000.0</td>\n",
       "      <td>0.053771</td>\n",
       "      <td>0.225568</td>\n",
       "      <td>0.0</td>\n",
       "      <td>0.00</td>\n",
       "      <td>0.0</td>\n",
       "      <td>0.00</td>\n",
       "      <td>1.0</td>\n",
       "    </tr>\n",
       "    <tr>\n",
       "      <th>ap_hi</th>\n",
       "      <td>70000.0</td>\n",
       "      <td>128.817286</td>\n",
       "      <td>154.011419</td>\n",
       "      <td>-150.0</td>\n",
       "      <td>120.00</td>\n",
       "      <td>120.0</td>\n",
       "      <td>140.00</td>\n",
       "      <td>16020.0</td>\n",
       "    </tr>\n",
       "    <tr>\n",
       "      <th>ap_lo</th>\n",
       "      <td>70000.0</td>\n",
       "      <td>96.630414</td>\n",
       "      <td>188.472530</td>\n",
       "      <td>-70.0</td>\n",
       "      <td>80.00</td>\n",
       "      <td>80.0</td>\n",
       "      <td>90.00</td>\n",
       "      <td>11000.0</td>\n",
       "    </tr>\n",
       "    <tr>\n",
       "      <th>cholesterol</th>\n",
       "      <td>70000.0</td>\n",
       "      <td>1.366871</td>\n",
       "      <td>0.680250</td>\n",
       "      <td>1.0</td>\n",
       "      <td>1.00</td>\n",
       "      <td>1.0</td>\n",
       "      <td>2.00</td>\n",
       "      <td>3.0</td>\n",
       "    </tr>\n",
       "    <tr>\n",
       "      <th>gender</th>\n",
       "      <td>70000.0</td>\n",
       "      <td>1.349571</td>\n",
       "      <td>0.476838</td>\n",
       "      <td>1.0</td>\n",
       "      <td>1.00</td>\n",
       "      <td>1.0</td>\n",
       "      <td>2.00</td>\n",
       "      <td>2.0</td>\n",
       "    </tr>\n",
       "    <tr>\n",
       "      <th>gluc</th>\n",
       "      <td>70000.0</td>\n",
       "      <td>1.226457</td>\n",
       "      <td>0.572270</td>\n",
       "      <td>1.0</td>\n",
       "      <td>1.00</td>\n",
       "      <td>1.0</td>\n",
       "      <td>1.00</td>\n",
       "      <td>3.0</td>\n",
       "    </tr>\n",
       "    <tr>\n",
       "      <th>height</th>\n",
       "      <td>70000.0</td>\n",
       "      <td>164.359229</td>\n",
       "      <td>8.210126</td>\n",
       "      <td>55.0</td>\n",
       "      <td>159.00</td>\n",
       "      <td>165.0</td>\n",
       "      <td>170.00</td>\n",
       "      <td>250.0</td>\n",
       "    </tr>\n",
       "    <tr>\n",
       "      <th>smoke</th>\n",
       "      <td>70000.0</td>\n",
       "      <td>0.088129</td>\n",
       "      <td>0.283484</td>\n",
       "      <td>0.0</td>\n",
       "      <td>0.00</td>\n",
       "      <td>0.0</td>\n",
       "      <td>0.00</td>\n",
       "      <td>1.0</td>\n",
       "    </tr>\n",
       "    <tr>\n",
       "      <th>weight</th>\n",
       "      <td>70000.0</td>\n",
       "      <td>74.205690</td>\n",
       "      <td>14.395757</td>\n",
       "      <td>10.0</td>\n",
       "      <td>65.00</td>\n",
       "      <td>72.0</td>\n",
       "      <td>82.00</td>\n",
       "      <td>200.0</td>\n",
       "    </tr>\n",
       "    <tr>\n",
       "      <th>disease</th>\n",
       "      <td>70000.0</td>\n",
       "      <td>0.499700</td>\n",
       "      <td>0.500003</td>\n",
       "      <td>0.0</td>\n",
       "      <td>0.00</td>\n",
       "      <td>0.0</td>\n",
       "      <td>1.00</td>\n",
       "      <td>1.0</td>\n",
       "    </tr>\n",
       "    <tr>\n",
       "      <th>age(yr)</th>\n",
       "      <td>70000.0</td>\n",
       "      <td>52.840671</td>\n",
       "      <td>6.766774</td>\n",
       "      <td>29.0</td>\n",
       "      <td>48.00</td>\n",
       "      <td>53.0</td>\n",
       "      <td>58.00</td>\n",
       "      <td>64.0</td>\n",
       "    </tr>\n",
       "  </tbody>\n",
       "</table>\n",
       "</div>"
      ],
      "text/plain": [
       "               count          mean           std    min       25%      50%  \\\n",
       "id           70000.0  49972.419900  28851.302323    0.0  25006.75  50001.5   \n",
       "active       70000.0      0.803729      0.397179    0.0      1.00      1.0   \n",
       "alco         70000.0      0.053771      0.225568    0.0      0.00      0.0   \n",
       "ap_hi        70000.0    128.817286    154.011419 -150.0    120.00    120.0   \n",
       "ap_lo        70000.0     96.630414    188.472530  -70.0     80.00     80.0   \n",
       "cholesterol  70000.0      1.366871      0.680250    1.0      1.00      1.0   \n",
       "gender       70000.0      1.349571      0.476838    1.0      1.00      1.0   \n",
       "gluc         70000.0      1.226457      0.572270    1.0      1.00      1.0   \n",
       "height       70000.0    164.359229      8.210126   55.0    159.00    165.0   \n",
       "smoke        70000.0      0.088129      0.283484    0.0      0.00      0.0   \n",
       "weight       70000.0     74.205690     14.395757   10.0     65.00     72.0   \n",
       "disease      70000.0      0.499700      0.500003    0.0      0.00      0.0   \n",
       "age(yr)      70000.0     52.840671      6.766774   29.0     48.00     53.0   \n",
       "\n",
       "                  75%      max  \n",
       "id           74889.25  99999.0  \n",
       "active           1.00      1.0  \n",
       "alco             0.00      1.0  \n",
       "ap_hi          140.00  16020.0  \n",
       "ap_lo           90.00  11000.0  \n",
       "cholesterol      2.00      3.0  \n",
       "gender           2.00      2.0  \n",
       "gluc             1.00      3.0  \n",
       "height         170.00    250.0  \n",
       "smoke            0.00      1.0  \n",
       "weight          82.00    200.0  \n",
       "disease          1.00      1.0  \n",
       "age(yr)         58.00     64.0  "
      ]
     },
     "execution_count": 13,
     "metadata": {},
     "output_type": "execute_result"
    }
   ],
   "source": [
    "cardio.describe().T #check numeric data for outliers"
   ]
  },
  {
   "cell_type": "markdown",
   "id": "7e25b389-31d3-4086-9505-968d6bc05724",
   "metadata": {},
   "source": [
    "<font color=\"blue\">We observed there are negative values for blood presure, and the maximum values of blood pressure are not realistic. For adult with age between 29 to 64, the minimum and maximum values of height and weight are either too extreme or unrealistic."
   ]
  },
  {
   "cell_type": "code",
   "execution_count": 14,
   "id": "edf7311b-2fe3-4a1b-a58e-4627a778a798",
   "metadata": {},
   "outputs": [
    {
     "data": {
      "image/png": "[encoded data removed]",
      "text/plain": [
       "<Figure size 640x480 with 4 Axes>"
      ]
     },
     "metadata": {},
     "output_type": "display_data"
    }
   ],
   "source": [
    "plt.subplot(1,4,1)\n",
    "sns.boxplot(data=cardio[['ap_hi','ap_lo']])\n",
    "plt.title('Blood Pressure')\n",
    "plt.subplot(1,4,2)\n",
    "sns.boxplot(data=cardio['height'])\n",
    "plt.title('height')\n",
    "plt.subplot(1,4,3)\n",
    "sns.boxplot(data=cardio['weight'])\n",
    "plt.title('weight')\n",
    "plt.subplot(1,4,4)\n",
    "sns.boxplot(data=cardio['age(yr)'])\n",
    "plt.title('age')\n",
    "plt.subplots_adjust(right=2,wspace=0.5)\n",
    "plt.show()"
   ]
  },
  {
   "cell_type": "code",
   "execution_count": 15,
   "id": "8e326fa7-2acb-41c4-8537-d583fdfaba15",
   "metadata": {},
   "outputs": [
    {
     "data": {
      "image/png": "[encoded data removed]",
      "text/plain": [
       "<Figure size 2000x1000 with 2 Axes>"
      ]
     },
     "metadata": {},
     "output_type": "display_data"
    }
   ],
   "source": [
    "plt.figure(figsize=(20,10))\n",
    "plt.subplot(2,1,1)\n",
    "plt.hist(cardio['ap_hi'],bins=100)\n",
    "plt.title('Systolic Blodd Pressure Histogram')\n",
    "plt.subplot(2,1,2)\n",
    "plt.hist(cardio['ap_lo'],bins=100)\n",
    "plt.title('Diastolic Blodd Pressure Histogram')\n",
    "plt.subplots_adjust(hspace=0.2)\n",
    "plt.show()"
   ]
  },
  {
   "cell_type": "markdown",
   "id": "eb58e259-138a-4ce7-b0a5-f6aa3545d6e2",
   "metadata": {},
   "source": [
    "<font color=\"blue\">From boxplot and histogram, we observed anomalies or wrong data input for the numeric data. We will remove the top and bottom 2.5% of the records for 'ap_hi', 'ap_lo', 'height', and 'weight'."
   ]
  },
  {
   "cell_type": "code",
   "execution_count": 16,
   "id": "d82bb582-231f-4546-8c8e-e001c0c19077",
   "metadata": {},
   "outputs": [],
   "source": [
    "cardio.drop(cardio[(cardio['height'] > cardio['height'].quantile(0.975)) | (cardio['height'] < cardio['height'].quantile(0.025))].index,inplace=True)\n",
    "cardio.drop(cardio[(cardio['weight'] > cardio['weight'].quantile(0.975)) | (cardio['weight'] < cardio['weight'].quantile(0.025))].index,inplace=True)\n",
    "cardio.drop(cardio[(cardio['ap_hi'] > cardio['ap_hi'].quantile(0.975)) | (cardio['ap_hi'] < cardio['ap_hi'].quantile(0.025))].index,inplace=True)\n",
    "cardio.drop(cardio[(cardio['ap_lo'] > cardio['ap_lo'].quantile(0.975)) | (cardio['ap_lo'] < cardio['ap_lo'].quantile(0.025))].index,inplace=True)"
   ]
  },
  {
   "cell_type": "markdown",
   "id": "b4477db5-531f-4225-b9ab-501b0ec804bf",
   "metadata": {},
   "source": [
    "<font color=\"blue\">After removing outliers, we make sure there is no more illogical data where diastolic blood pressure is higher than systolic blood pressure."
   ]
  },
  {
   "cell_type": "code",
   "execution_count": 17,
   "id": "2aad98e7-28b8-4b00-86d6-c1e0848ad354",
   "metadata": {},
   "outputs": [
    {
     "data": {
      "text/plain": [
       "0"
      ]
     },
     "execution_count": 17,
     "metadata": {},
     "output_type": "execute_result"
    }
   ],
   "source": [
    "cardio[cardio['ap_lo']>cardio['ap_hi']].shape[0]"
   ]
  },
  {
   "cell_type": "code",
   "execution_count": 18,
   "id": "d2d9b6a1-f9f5-4601-8526-567bc39c2c09",
   "metadata": {},
   "outputs": [
    {
     "data": {
      "image/png": "[encoded data removed]",
      "text/plain": [
       "<Figure size 640x480 with 4 Axes>"
      ]
     },
     "metadata": {},
     "output_type": "display_data"
    }
   ],
   "source": [
    "plt.subplot(1,4,1)\n",
    "sns.boxplot(data=cardio[['ap_hi','ap_lo']])\n",
    "plt.title('Blood Pressure')\n",
    "plt.subplot(1,4,2)\n",
    "sns.boxplot(data=cardio['height'])\n",
    "plt.title('height')\n",
    "plt.subplot(1,4,3)\n",
    "sns.boxplot(data=cardio['weight'])\n",
    "plt.title('weight')\n",
    "plt.subplot(1,4,4)\n",
    "sns.boxplot(data=cardio['age(yr)'])\n",
    "plt.title('age')\n",
    "plt.subplots_adjust(right=2,wspace=0.5)\n",
    "plt.show()"
   ]
  },
  {
   "cell_type": "code",
   "execution_count": 19,
   "id": "fc8b2e78-972d-4cef-bfdd-5e892b97983c",
   "metadata": {},
   "outputs": [
    {
     "data": {
      "text/plain": [
       "(60142, 15)"
      ]
     },
     "execution_count": 19,
     "metadata": {},
     "output_type": "execute_result"
    }
   ],
   "source": [
    "cardio.shape"
   ]
  },
  {
   "cell_type": "markdown",
   "id": "2cb1fbe1-f204-4cf2-bd88-9672b1af6752",
   "metadata": {},
   "source": [
    "<font color=\"blue\">The replot of boxplot shows most outliers are removed. After cleaning numerical data, we have 60142 rows."
   ]
  },
  {
   "cell_type": "markdown",
   "id": "e2f0b783-306e-4cea-82e8-5c58e7716ac1",
   "metadata": {},
   "source": [
    "# 3. Finding Relation"
   ]
  },
  {
   "cell_type": "markdown",
   "id": "50a51e3d-044d-45d8-be16-8b7af173b8e2",
   "metadata": {},
   "source": [
    "### 3.1 Numeric"
   ]
  },
  {
   "cell_type": "markdown",
   "id": "80bf2fc3-b51d-4aa8-a542-4a0189d81eb0",
   "metadata": {},
   "source": [
    "<font color=\"blue\">To find relationship between numerical features and categorial target:"
   ]
  },
  {
   "cell_type": "code",
   "execution_count": 20,
   "id": "563f285a-db65-44da-a889-b3750cd22bc4",
   "metadata": {},
   "outputs": [
    {
     "data": {
      "image/png": "[encoded data removed]",
      "text/plain": [
       "<Figure size 640x480 with 5 Axes>"
      ]
     },
     "metadata": {},
     "output_type": "display_data"
    }
   ],
   "source": [
    "plt.subplot(3,2,1)\n",
    "for category in cardio['disease'].unique():\n",
    "    plt.hist(cardio[cardio['disease'] == category]['ap_hi'], label=str(category), alpha=0.5, bins=20)\n",
    "plt.legend()\n",
    "plt.xlabel('ap_hi (Systolic blood pressure)')\n",
    "plt.ylabel('Frequency')\n",
    "plt.subplot(3,2,2)\n",
    "for category in cardio['disease'].unique():\n",
    "    plt.hist(cardio[cardio['disease'] == category]['ap_lo'], label=str(category), alpha=0.5, bins=20)\n",
    "plt.legend()\n",
    "plt.xlabel('ap_lo (Diastolic blood pressure)')\n",
    "plt.ylabel('Frequency')\n",
    "plt.subplot(3,2,3)\n",
    "for category in cardio['disease'].unique():\n",
    "    plt.hist(cardio[cardio['disease'] == category]['height'], label=str(category), alpha=0.5, bins=40)\n",
    "plt.legend()\n",
    "plt.xlabel('height')\n",
    "plt.ylabel('Frequency')\n",
    "plt.subplot(3,2,4)\n",
    "for category in cardio['disease'].unique():\n",
    "    plt.hist(cardio[cardio['disease'] == category]['weight'], label=str(category), alpha=0.5, bins=40)\n",
    "plt.legend()\n",
    "plt.xlabel('weight')\n",
    "plt.ylabel('Frequency')\n",
    "plt.subplot(3,2,5)\n",
    "for category in cardio['disease'].unique():\n",
    "    plt.hist(cardio[cardio['disease'] == category]['age(yr)'], label=str(category), alpha=0.5, bins=40)\n",
    "plt.legend()\n",
    "plt.xlabel('age(yr)')\n",
    "plt.ylabel('Frequency')\n",
    "plt.subplots_adjust(right=2,wspace=0.2,hspace=0.8)\n",
    "plt.show()"
   ]
  },
  {
   "cell_type": "markdown",
   "id": "9d01dffe-b51b-482d-8e9b-27fe2fb94053",
   "metadata": {},
   "source": [
    "<font color=\"blue\">We observe apparent trend for 'ap_hi' and 'ap_low'. At low pressure, disease frequency is lower than no disease. At high pressure, disease frequency is higher than no disease. We may try to use 'pulse pressure' and 'Mean Arterial Pressure (MAP)' as more meaningful features to represent the two features.\n",
    "\n",
    "<font color=\"blue\">On the other hand, while the 'weight' shows indication of higher weight has higher number of disease, the 'height' gives no indication. In this case, we may try to use Body Mass Index (BMI) to better represent these two features.\n",
    "\n",
    "<font color=\"blue\">For 'age', we can observe as age increases, there is higher frequency of disease, and lower frequency of no disease."
   ]
  },
  {
   "cell_type": "code",
   "execution_count": 21,
   "id": "0a3a63b0-8eec-426a-bd89-de6a3c8d130f",
   "metadata": {},
   "outputs": [
    {
     "data": {
      "text/plain": [
       "Text(0, 0.5, 'Frequency')"
      ]
     },
     "execution_count": 21,
     "metadata": {},
     "output_type": "execute_result"
    },
    {
     "data": {
      "image/png": "[encoded data removed]",
      "text/plain": [
       "<Figure size 640x480 with 1 Axes>"
      ]
     },
     "metadata": {},
     "output_type": "display_data"
    }
   ],
   "source": [
    "cardio['ap_pulse'] = cardio['ap_hi']-cardio['ap_lo']\n",
    "for category in cardio['disease'].unique():\n",
    "    plt.hist(cardio[cardio['disease'] == category]['ap_pulse'], label=str(category), alpha=0.5, bins=30)\n",
    "plt.legend()\n",
    "plt.xlabel('ap_pulse')\n",
    "plt.ylabel('Frequency')"
   ]
  },
  {
   "cell_type": "code",
   "execution_count": 22,
   "id": "601cd0b0-f726-41c2-921d-028ecea66234",
   "metadata": {},
   "outputs": [
    {
     "data": {
      "text/plain": [
       "Text(0, 0.5, 'Frequency')"
      ]
     },
     "execution_count": 22,
     "metadata": {},
     "output_type": "execute_result"
    },
    {
     "data": {
      "image/png": "[encoded data removed]",
      "text/plain": [
       "<Figure size 640x480 with 1 Axes>"
      ]
     },
     "metadata": {},
     "output_type": "display_data"
    }
   ],
   "source": [
    "cardio['ap_map'] = (cardio['ap_hi'] + (2*cardio['ap_lo']))/3\n",
    "for category in cardio['disease'].unique():\n",
    "    plt.hist(cardio[cardio['disease'] == category]['ap_map'], label=str(category), alpha=0.5, bins=30)\n",
    "plt.legend()\n",
    "plt.xlabel('ap_map')\n",
    "plt.ylabel('Frequency')"
   ]
  },
  {
   "cell_type": "code",
   "execution_count": 23,
   "id": "5e144f0b-cf33-44b5-ad15-62774f83a9fa",
   "metadata": {},
   "outputs": [
    {
     "data": {
      "text/html": [
       "<div>\n",
       "<style scoped>\n",
       "    .dataframe tbody tr th:only-of-type {\n",
       "        vertical-align: middle;\n",
       "    }\n",
       "\n",
       "    .dataframe tbody tr th {\n",
       "        vertical-align: top;\n",
       "    }\n",
       "\n",
       "    .dataframe thead th {\n",
       "        text-align: right;\n",
       "    }\n",
       "</style>\n",
       "<table border=\"1\" class=\"dataframe\">\n",
       "  <thead>\n",
       "    <tr style=\"text-align: right;\">\n",
       "      <th></th>\n",
       "      <th>country</th>\n",
       "      <th>id</th>\n",
       "      <th>active</th>\n",
       "      <th>alco</th>\n",
       "      <th>cholesterol</th>\n",
       "      <th>gender</th>\n",
       "      <th>gluc</th>\n",
       "      <th>height</th>\n",
       "      <th>occupation</th>\n",
       "      <th>smoke</th>\n",
       "      <th>weight</th>\n",
       "      <th>disease</th>\n",
       "      <th>age(yr)</th>\n",
       "      <th>ap_pulse</th>\n",
       "      <th>ap_map</th>\n",
       "    </tr>\n",
       "  </thead>\n",
       "  <tbody>\n",
       "    <tr>\n",
       "      <th>0</th>\n",
       "      <td>Indonesia</td>\n",
       "      <td>0</td>\n",
       "      <td>1</td>\n",
       "      <td>0</td>\n",
       "      <td>1</td>\n",
       "      <td>2</td>\n",
       "      <td>1</td>\n",
       "      <td>168</td>\n",
       "      <td>Architect</td>\n",
       "      <td>0</td>\n",
       "      <td>62.0</td>\n",
       "      <td>0</td>\n",
       "      <td>50</td>\n",
       "      <td>30</td>\n",
       "      <td>90.000000</td>\n",
       "    </tr>\n",
       "    <tr>\n",
       "      <th>1</th>\n",
       "      <td>Malaysia</td>\n",
       "      <td>1</td>\n",
       "      <td>1</td>\n",
       "      <td>0</td>\n",
       "      <td>3</td>\n",
       "      <td>1</td>\n",
       "      <td>1</td>\n",
       "      <td>156</td>\n",
       "      <td>Accountant</td>\n",
       "      <td>0</td>\n",
       "      <td>85.0</td>\n",
       "      <td>1</td>\n",
       "      <td>55</td>\n",
       "      <td>50</td>\n",
       "      <td>106.666667</td>\n",
       "    </tr>\n",
       "  </tbody>\n",
       "</table>\n",
       "</div>"
      ],
      "text/plain": [
       "     country  id  active  alco  cholesterol  gender  gluc  height  occupation  \\\n",
       "0  Indonesia   0       1     0            1       2     1     168   Architect   \n",
       "1   Malaysia   1       1     0            3       1     1     156  Accountant   \n",
       "\n",
       "   smoke  weight  disease  age(yr)  ap_pulse      ap_map  \n",
       "0      0    62.0        0       50        30   90.000000  \n",
       "1      0    85.0        1       55        50  106.666667  "
      ]
     },
     "execution_count": 23,
     "metadata": {},
     "output_type": "execute_result"
    }
   ],
   "source": [
    "cardio = cardio.drop(['ap_hi','ap_lo'],axis=1)\n",
    "cardio.head(2)"
   ]
  },
  {
   "cell_type": "markdown",
   "id": "25559564-60c3-4848-b873-6e7689329004",
   "metadata": {},
   "source": [
    "<font color=\"blue\">Both pulse pressure and mean arterial pressuredistribution shows the trend of higher the pulse pressure, higher the ratio of disease to no disease, implying pulse pressure and mean arterial pressure are good markers for heart disease. Hence we will replace 'ap_hi' and 'ap_lo' with 'ap_pulse'."
   ]
  },
  {
   "cell_type": "code",
   "execution_count": 24,
   "id": "fc250064-36e4-4a49-b6e1-50a8959acc27",
   "metadata": {},
   "outputs": [
    {
     "data": {
      "text/html": [
       "<div>\n",
       "<style scoped>\n",
       "    .dataframe tbody tr th:only-of-type {\n",
       "        vertical-align: middle;\n",
       "    }\n",
       "\n",
       "    .dataframe tbody tr th {\n",
       "        vertical-align: top;\n",
       "    }\n",
       "\n",
       "    .dataframe thead th {\n",
       "        text-align: right;\n",
       "    }\n",
       "</style>\n",
       "<table border=\"1\" class=\"dataframe\">\n",
       "  <thead>\n",
       "    <tr style=\"text-align: right;\">\n",
       "      <th></th>\n",
       "      <th>country</th>\n",
       "      <th>id</th>\n",
       "      <th>active</th>\n",
       "      <th>alco</th>\n",
       "      <th>cholesterol</th>\n",
       "      <th>gender</th>\n",
       "      <th>gluc</th>\n",
       "      <th>height</th>\n",
       "      <th>occupation</th>\n",
       "      <th>smoke</th>\n",
       "      <th>weight</th>\n",
       "      <th>disease</th>\n",
       "      <th>age(yr)</th>\n",
       "      <th>ap_pulse</th>\n",
       "      <th>ap_map</th>\n",
       "      <th>BMI</th>\n",
       "    </tr>\n",
       "  </thead>\n",
       "  <tbody>\n",
       "    <tr>\n",
       "      <th>0</th>\n",
       "      <td>Indonesia</td>\n",
       "      <td>0</td>\n",
       "      <td>1</td>\n",
       "      <td>0</td>\n",
       "      <td>1</td>\n",
       "      <td>2</td>\n",
       "      <td>1</td>\n",
       "      <td>168</td>\n",
       "      <td>Architect</td>\n",
       "      <td>0</td>\n",
       "      <td>62.0</td>\n",
       "      <td>0</td>\n",
       "      <td>50</td>\n",
       "      <td>30</td>\n",
       "      <td>90.000000</td>\n",
       "      <td>21.97</td>\n",
       "    </tr>\n",
       "    <tr>\n",
       "      <th>1</th>\n",
       "      <td>Malaysia</td>\n",
       "      <td>1</td>\n",
       "      <td>1</td>\n",
       "      <td>0</td>\n",
       "      <td>3</td>\n",
       "      <td>1</td>\n",
       "      <td>1</td>\n",
       "      <td>156</td>\n",
       "      <td>Accountant</td>\n",
       "      <td>0</td>\n",
       "      <td>85.0</td>\n",
       "      <td>1</td>\n",
       "      <td>55</td>\n",
       "      <td>50</td>\n",
       "      <td>106.666667</td>\n",
       "      <td>34.93</td>\n",
       "    </tr>\n",
       "  </tbody>\n",
       "</table>\n",
       "</div>"
      ],
      "text/plain": [
       "     country  id  active  alco  cholesterol  gender  gluc  height  occupation  \\\n",
       "0  Indonesia   0       1     0            1       2     1     168   Architect   \n",
       "1   Malaysia   1       1     0            3       1     1     156  Accountant   \n",
       "\n",
       "   smoke  weight  disease  age(yr)  ap_pulse      ap_map    BMI  \n",
       "0      0    62.0        0       50        30   90.000000  21.97  \n",
       "1      0    85.0        1       55        50  106.666667  34.93  "
      ]
     },
     "execution_count": 24,
     "metadata": {},
     "output_type": "execute_result"
    }
   ],
   "source": [
    "cardio['BMI']= round(cardio['weight']/((cardio['height']/100)**2),2)\n",
    "cardio.head(2)"
   ]
  },
  {
   "cell_type": "code",
   "execution_count": 25,
   "id": "7236029d-7520-4f07-a045-abf00bba7db4",
   "metadata": {},
   "outputs": [
    {
     "data": {
      "image/png": "[encoded data removed]",
      "text/plain": [
       "<Figure size 2000x300 with 1 Axes>"
      ]
     },
     "metadata": {},
     "output_type": "display_data"
    }
   ],
   "source": [
    "plt.figure(figsize=(20,3))\n",
    "for category in cardio['disease'].unique():\n",
    "    plt.hist(cardio[cardio['disease'] == category]['BMI'], label=str(category), alpha=0.5, bins=70)\n",
    "plt.legend()\n",
    "plt.xlabel('BMI')\n",
    "plt.ylabel('Frequency')\n",
    "plt.show()"
   ]
  },
  {
   "cell_type": "markdown",
   "id": "5ef8ad9c-0ed9-4186-a4a3-234578e76886",
   "metadata": {},
   "source": [
    "<font color=\"blue\">'BMI' shows the trend higher the BMI, higher the ratio of disease to no disease. Hence we will use 'BMI' as the marker and drop 'height' and 'weight'."
   ]
  },
  {
   "cell_type": "code",
   "execution_count": 26,
   "id": "9ef7f26d-bd2d-4404-a252-3346f0c8ac06",
   "metadata": {},
   "outputs": [
    {
     "data": {
      "text/html": [
       "<div>\n",
       "<style scoped>\n",
       "    .dataframe tbody tr th:only-of-type {\n",
       "        vertical-align: middle;\n",
       "    }\n",
       "\n",
       "    .dataframe tbody tr th {\n",
       "        vertical-align: top;\n",
       "    }\n",
       "\n",
       "    .dataframe thead th {\n",
       "        text-align: right;\n",
       "    }\n",
       "</style>\n",
       "<table border=\"1\" class=\"dataframe\">\n",
       "  <thead>\n",
       "    <tr style=\"text-align: right;\">\n",
       "      <th></th>\n",
       "      <th>country</th>\n",
       "      <th>id</th>\n",
       "      <th>active</th>\n",
       "      <th>alco</th>\n",
       "      <th>cholesterol</th>\n",
       "      <th>gender</th>\n",
       "      <th>gluc</th>\n",
       "      <th>occupation</th>\n",
       "      <th>smoke</th>\n",
       "      <th>disease</th>\n",
       "      <th>age(yr)</th>\n",
       "      <th>ap_pulse</th>\n",
       "      <th>ap_map</th>\n",
       "      <th>BMI</th>\n",
       "    </tr>\n",
       "  </thead>\n",
       "  <tbody>\n",
       "    <tr>\n",
       "      <th>0</th>\n",
       "      <td>Indonesia</td>\n",
       "      <td>0</td>\n",
       "      <td>1</td>\n",
       "      <td>0</td>\n",
       "      <td>1</td>\n",
       "      <td>2</td>\n",
       "      <td>1</td>\n",
       "      <td>Architect</td>\n",
       "      <td>0</td>\n",
       "      <td>0</td>\n",
       "      <td>50</td>\n",
       "      <td>30</td>\n",
       "      <td>90.000000</td>\n",
       "      <td>21.97</td>\n",
       "    </tr>\n",
       "    <tr>\n",
       "      <th>1</th>\n",
       "      <td>Malaysia</td>\n",
       "      <td>1</td>\n",
       "      <td>1</td>\n",
       "      <td>0</td>\n",
       "      <td>3</td>\n",
       "      <td>1</td>\n",
       "      <td>1</td>\n",
       "      <td>Accountant</td>\n",
       "      <td>0</td>\n",
       "      <td>1</td>\n",
       "      <td>55</td>\n",
       "      <td>50</td>\n",
       "      <td>106.666667</td>\n",
       "      <td>34.93</td>\n",
       "    </tr>\n",
       "  </tbody>\n",
       "</table>\n",
       "</div>"
      ],
      "text/plain": [
       "     country  id  active  alco  cholesterol  gender  gluc  occupation  smoke  \\\n",
       "0  Indonesia   0       1     0            1       2     1   Architect      0   \n",
       "1   Malaysia   1       1     0            3       1     1  Accountant      0   \n",
       "\n",
       "   disease  age(yr)  ap_pulse      ap_map    BMI  \n",
       "0        0       50        30   90.000000  21.97  \n",
       "1        1       55        50  106.666667  34.93  "
      ]
     },
     "execution_count": 26,
     "metadata": {},
     "output_type": "execute_result"
    }
   ],
   "source": [
    "cardio = cardio.drop(['height','weight'],axis=1)\n",
    "cardio.head(2)"
   ]
  },
  {
   "cell_type": "markdown",
   "id": "a526da73-fb6d-409c-8e36-ed2a0579ea3b",
   "metadata": {},
   "source": [
    "<font color=\"blue\">Numerical features are converted into categorical features to prepare for categorical clustering later."
   ]
  },
  {
   "cell_type": "code",
   "execution_count": 27,
   "id": "6191ca43-f333-4196-ba2e-690335881b6b",
   "metadata": {},
   "outputs": [],
   "source": [
    "cardio['BMI'] = pd.cut(cardio['BMI'], bins=6, labels=range(6), right=True, include_lowest=True)\n",
    "cardio['ap_pulse'] = pd.cut(cardio['ap_pulse'], bins=6, labels=range(6), right=True, include_lowest=True)\n",
    "cardio['ap_map'] = pd.cut(cardio['ap_map'], bins=6, labels=range(6), right=True, include_lowest=True)\n",
    "cardio['age_group'] = pd.cut(cardio['age(yr)'], bins=7, labels=range(7), include_lowest=True,right=True)"
   ]
  },
  {
   "cell_type": "code",
   "execution_count": 28,
   "id": "426c36e7-8ede-4826-bea2-ce812ea18924",
   "metadata": {},
   "outputs": [],
   "source": [
    "cardio.drop(['age(yr)'], axis=1, inplace=True)"
   ]
  },
  {
   "cell_type": "code",
   "execution_count": 29,
   "id": "245e5dbf-7d46-4248-b416-0d5837277a1e",
   "metadata": {},
   "outputs": [
    {
     "data": {
      "text/html": [
       "<div>\n",
       "<style scoped>\n",
       "    .dataframe tbody tr th:only-of-type {\n",
       "        vertical-align: middle;\n",
       "    }\n",
       "\n",
       "    .dataframe tbody tr th {\n",
       "        vertical-align: top;\n",
       "    }\n",
       "\n",
       "    .dataframe thead th {\n",
       "        text-align: right;\n",
       "    }\n",
       "</style>\n",
       "<table border=\"1\" class=\"dataframe\">\n",
       "  <thead>\n",
       "    <tr style=\"text-align: right;\">\n",
       "      <th></th>\n",
       "      <th>country</th>\n",
       "      <th>id</th>\n",
       "      <th>active</th>\n",
       "      <th>alco</th>\n",
       "      <th>cholesterol</th>\n",
       "      <th>gender</th>\n",
       "      <th>gluc</th>\n",
       "      <th>occupation</th>\n",
       "      <th>smoke</th>\n",
       "      <th>disease</th>\n",
       "      <th>ap_pulse</th>\n",
       "      <th>ap_map</th>\n",
       "      <th>BMI</th>\n",
       "      <th>age_group</th>\n",
       "    </tr>\n",
       "  </thead>\n",
       "  <tbody>\n",
       "    <tr>\n",
       "      <th>0</th>\n",
       "      <td>Indonesia</td>\n",
       "      <td>0</td>\n",
       "      <td>1</td>\n",
       "      <td>0</td>\n",
       "      <td>1</td>\n",
       "      <td>2</td>\n",
       "      <td>1</td>\n",
       "      <td>Architect</td>\n",
       "      <td>0</td>\n",
       "      <td>0</td>\n",
       "      <td>1</td>\n",
       "      <td>2</td>\n",
       "      <td>1</td>\n",
       "      <td>4</td>\n",
       "    </tr>\n",
       "    <tr>\n",
       "      <th>1</th>\n",
       "      <td>Malaysia</td>\n",
       "      <td>1</td>\n",
       "      <td>1</td>\n",
       "      <td>0</td>\n",
       "      <td>3</td>\n",
       "      <td>1</td>\n",
       "      <td>1</td>\n",
       "      <td>Accountant</td>\n",
       "      <td>0</td>\n",
       "      <td>1</td>\n",
       "      <td>2</td>\n",
       "      <td>4</td>\n",
       "      <td>3</td>\n",
       "      <td>5</td>\n",
       "    </tr>\n",
       "    <tr>\n",
       "      <th>2</th>\n",
       "      <td>Indonesia</td>\n",
       "      <td>2</td>\n",
       "      <td>0</td>\n",
       "      <td>0</td>\n",
       "      <td>3</td>\n",
       "      <td>1</td>\n",
       "      <td>1</td>\n",
       "      <td>Chef</td>\n",
       "      <td>0</td>\n",
       "      <td>1</td>\n",
       "      <td>3</td>\n",
       "      <td>2</td>\n",
       "      <td>1</td>\n",
       "      <td>4</td>\n",
       "    </tr>\n",
       "    <tr>\n",
       "      <th>3</th>\n",
       "      <td>Singapore</td>\n",
       "      <td>3</td>\n",
       "      <td>1</td>\n",
       "      <td>0</td>\n",
       "      <td>1</td>\n",
       "      <td>2</td>\n",
       "      <td>1</td>\n",
       "      <td>Lawyer</td>\n",
       "      <td>0</td>\n",
       "      <td>1</td>\n",
       "      <td>2</td>\n",
       "      <td>5</td>\n",
       "      <td>2</td>\n",
       "      <td>3</td>\n",
       "    </tr>\n",
       "    <tr>\n",
       "      <th>4</th>\n",
       "      <td>Singapore</td>\n",
       "      <td>4</td>\n",
       "      <td>0</td>\n",
       "      <td>0</td>\n",
       "      <td>1</td>\n",
       "      <td>1</td>\n",
       "      <td>1</td>\n",
       "      <td>Architect</td>\n",
       "      <td>0</td>\n",
       "      <td>0</td>\n",
       "      <td>2</td>\n",
       "      <td>0</td>\n",
       "      <td>1</td>\n",
       "      <td>3</td>\n",
       "    </tr>\n",
       "  </tbody>\n",
       "</table>\n",
       "</div>"
      ],
      "text/plain": [
       "     country  id  active  alco  cholesterol  gender  gluc  occupation  smoke  \\\n",
       "0  Indonesia   0       1     0            1       2     1   Architect      0   \n",
       "1   Malaysia   1       1     0            3       1     1  Accountant      0   \n",
       "2  Indonesia   2       0     0            3       1     1        Chef      0   \n",
       "3  Singapore   3       1     0            1       2     1      Lawyer      0   \n",
       "4  Singapore   4       0     0            1       1     1   Architect      0   \n",
       "\n",
       "   disease ap_pulse ap_map BMI age_group  \n",
       "0        0        1      2   1         4  \n",
       "1        1        2      4   3         5  \n",
       "2        1        3      2   1         4  \n",
       "3        1        2      5   2         3  \n",
       "4        0        2      0   1         3  "
      ]
     },
     "execution_count": 29,
     "metadata": {},
     "output_type": "execute_result"
    }
   ],
   "source": [
    "cardio.head(5)"
   ]
  },
  {
   "cell_type": "markdown",
   "id": "c18e4b7d-882e-4eba-9060-c373e2a9537c",
   "metadata": {},
   "source": [
    "### 3.2 Categorical"
   ]
  },
  {
   "cell_type": "markdown",
   "id": "a71c96ba-6e02-4c61-98de-3a2ed4c792e6",
   "metadata": {},
   "source": [
    "<font color=\"blue\">To find relationship between categorical features and categorical target:"
   ]
  },
  {
   "cell_type": "code",
   "execution_count": 30,
   "id": "a303e809-01b2-4cdc-b204-7089ce6764a4",
   "metadata": {},
   "outputs": [
    {
     "data": {
      "text/plain": [
       "Index(['country', 'id', 'active', 'alco', 'cholesterol', 'gender', 'gluc',\n",
       "       'occupation', 'smoke', 'disease', 'ap_pulse', 'ap_map', 'BMI',\n",
       "       'age_group'],\n",
       "      dtype='object')"
      ]
     },
     "execution_count": 30,
     "metadata": {},
     "output_type": "execute_result"
    }
   ],
   "source": [
    "cardio.columns"
   ]
  },
  {
   "cell_type": "code",
   "execution_count": 31,
   "id": "d47b45ee-c125-4ec4-a79b-36df3b9ae7c0",
   "metadata": {},
   "outputs": [
    {
     "data": {
      "image/png": "[encoded data removed]",
      "text/plain": [
       "<Figure size 1200x600 with 25 Axes>"
      ]
     },
     "metadata": {},
     "output_type": "display_data"
    }
   ],
   "source": [
    "from statsmodels.graphics.mosaicplot import mosaic\n",
    "fig, axes = plt.subplots(3,3,figsize=(12,6))\n",
    "mosaic(cardio,['country','disease'], ax=axes[0,0],title='country', labelizer=lambda _:\"\",gap=0.01)\n",
    "mosaic(cardio,['active','disease'], ax=axes[0,1],title='active', labelizer=lambda _:\"\",gap=0.01)\n",
    "mosaic(cardio,['alco','disease'], ax=axes[0,2],title='alco', labelizer=lambda _:\"\",gap=0.01)\n",
    "mosaic(cardio,['cholesterol','disease'], ax=axes[1,0],title='cholesterol', labelizer=lambda _:\"\",gap=0.02)\n",
    "mosaic(cardio,['gender','disease'], ax=axes[1,1],title='gender', labelizer=lambda _:\"\",gap=0.01)\n",
    "mosaic(cardio,['gluc','disease'], ax=axes[1,2],title='gluc', labelizer=lambda _:\"\",gap=0.01)\n",
    "mosaic(cardio,['occupation','disease'], ax=axes[2,0],title ='occupation', labelizer=lambda _:\"\",label_rotation=90,gap=0.02)\n",
    "mosaic(cardio,['smoke','disease'], ax=axes[2,1],title='smoke', labelizer=lambda _:\"\",gap=0.01)\n",
    "plt.subplots_adjust(hspace=0.4)\n",
    "plt.show()"
   ]
  },
  {
   "cell_type": "code",
   "execution_count": 32,
   "id": "e98dd173-6266-437a-849c-daa021502dd0",
   "metadata": {},
   "outputs": [
    {
     "data": {
      "image/png": "[encoded data removed]",
      "text/plain": [
       "<Figure size 640x480 with 3 Axes>"
      ]
     },
     "metadata": {},
     "output_type": "display_data"
    },
    {
     "data": {
      "image/png": "[encoded data removed]",
      "text/plain": [
       "<Figure size 640x480 with 3 Axes>"
      ]
     },
     "metadata": {},
     "output_type": "display_data"
    },
    {
     "data": {
      "image/png": "[encoded data removed]",
      "text/plain": [
       "<Figure size 640x480 with 3 Axes>"
      ]
     },
     "metadata": {},
     "output_type": "display_data"
    },
    {
     "data": {
      "image/png": "[encoded data removed]",
      "text/plain": [
       "<Figure size 640x480 with 3 Axes>"
      ]
     },
     "metadata": {},
     "output_type": "display_data"
    },
    {
     "data": {
      "image/png": "[encoded data removed]",
      "text/plain": [
       "<Figure size 640x480 with 3 Axes>"
      ]
     },
     "metadata": {},
     "output_type": "display_data"
    },
    {
     "data": {
      "image/png": "[encoded data removed]",
      "text/plain": [
       "<Figure size 640x480 with 3 Axes>"
      ]
     },
     "metadata": {},
     "output_type": "display_data"
    },
    {
     "data": {
      "image/png": "[encoded data removed]",
      "text/plain": [
       "<Figure size 640x480 with 3 Axes>"
      ]
     },
     "metadata": {},
     "output_type": "display_data"
    },
    {
     "data": {
      "image/png": "[encoded data removed]",
      "text/plain": [
       "<Figure size 640x480 with 3 Axes>"
      ]
     },
     "metadata": {},
     "output_type": "display_data"
    }
   ],
   "source": [
    "cardio_allcat = ['country', 'active', 'alco', 'cholesterol','gender', 'gluc', 'occupation', 'smoke']\n",
    "for cat in cardio_allcat:\n",
    "    mosaic(cardio, [cat, 'disease'])\n",
    "    plt.title(cat)\n",
    "plt.show()\n"
   ]
  },
  {
   "cell_type": "markdown",
   "id": "0eaf261f-79ad-45a6-87c8-31b9abc2aebf",
   "metadata": {},
   "source": [
    "<font color=\"blue\">From above chart, we can see 'cholesterol','gluc', 'active', 'alco' and 'smoke' shows apparent percentage difference of disease in different categories of the feature.\n",
    "\n",
    "<font color=\"blue\">While 'country','gender', and 'occupation' do not give a clear difference.\n",
    "\n",
    "<font color=\"blue\">We will use chi-square test to check if each feature is related to our target (significance level at 0.05.)"
   ]
  },
  {
   "cell_type": "code",
   "execution_count": 33,
   "id": "e8781093-9f23-4583-9ce2-d994f0e5761c",
   "metadata": {},
   "outputs": [
    {
     "data": {
      "text/html": [
       "<div>\n",
       "<style scoped>\n",
       "    .dataframe tbody tr th:only-of-type {\n",
       "        vertical-align: middle;\n",
       "    }\n",
       "\n",
       "    .dataframe tbody tr th {\n",
       "        vertical-align: top;\n",
       "    }\n",
       "\n",
       "    .dataframe thead th {\n",
       "        text-align: right;\n",
       "    }\n",
       "</style>\n",
       "<table border=\"1\" class=\"dataframe\">\n",
       "  <thead>\n",
       "    <tr style=\"text-align: right;\">\n",
       "      <th></th>\n",
       "      <th>Feature</th>\n",
       "      <th>P-value</th>\n",
       "      <th>There is significant association</th>\n",
       "    </tr>\n",
       "  </thead>\n",
       "  <tbody>\n",
       "    <tr>\n",
       "      <th>0</th>\n",
       "      <td>country</td>\n",
       "      <td>9.157358e-01</td>\n",
       "      <td>no</td>\n",
       "    </tr>\n",
       "    <tr>\n",
       "      <th>1</th>\n",
       "      <td>active</td>\n",
       "      <td>3.493301e-21</td>\n",
       "      <td>yes</td>\n",
       "    </tr>\n",
       "    <tr>\n",
       "      <th>2</th>\n",
       "      <td>alco</td>\n",
       "      <td>3.228307e-04</td>\n",
       "      <td>yes</td>\n",
       "    </tr>\n",
       "    <tr>\n",
       "      <th>3</th>\n",
       "      <td>cholesterol</td>\n",
       "      <td>0.000000e+00</td>\n",
       "      <td>yes</td>\n",
       "    </tr>\n",
       "    <tr>\n",
       "      <th>4</th>\n",
       "      <td>gender</td>\n",
       "      <td>2.398240e-01</td>\n",
       "      <td>no</td>\n",
       "    </tr>\n",
       "    <tr>\n",
       "      <th>5</th>\n",
       "      <td>gluc</td>\n",
       "      <td>4.893575e-100</td>\n",
       "      <td>yes</td>\n",
       "    </tr>\n",
       "    <tr>\n",
       "      <th>6</th>\n",
       "      <td>occupation</td>\n",
       "      <td>7.169954e-01</td>\n",
       "      <td>no</td>\n",
       "    </tr>\n",
       "    <tr>\n",
       "      <th>7</th>\n",
       "      <td>smoke</td>\n",
       "      <td>9.496296e-09</td>\n",
       "      <td>yes</td>\n",
       "    </tr>\n",
       "  </tbody>\n",
       "</table>\n",
       "</div>"
      ],
      "text/plain": [
       "       Feature        P-value There is significant association\n",
       "0      country   9.157358e-01                               no\n",
       "1       active   3.493301e-21                              yes\n",
       "2         alco   3.228307e-04                              yes\n",
       "3  cholesterol   0.000000e+00                              yes\n",
       "4       gender   2.398240e-01                               no\n",
       "5         gluc  4.893575e-100                              yes\n",
       "6   occupation   7.169954e-01                               no\n",
       "7        smoke   9.496296e-09                              yes"
      ]
     },
     "metadata": {},
     "output_type": "display_data"
    }
   ],
   "source": [
    "from scipy.stats import chi2_contingency\n",
    "\n",
    "results_df = pd.DataFrame(columns=['Feature','P-value','There is significant association'])\n",
    "\n",
    "for cat in cardio_allcat:\n",
    "    cat_table = pd.crosstab(cardio[cat], cardio['disease'])\n",
    "    # Perform the chi-square test for Feature1\n",
    "    chi2_stat, p_value, dof, expected = chi2_contingency(cat_table)\n",
    "    if p_value > 0.05:\n",
    "        conclusion = 'no'\n",
    "    else:\n",
    "        conclusion = 'yes'\n",
    "    results_df = pd.concat([results_df,pd.DataFrame({'Feature':[cat],'P-value':[p_value],'There is significant association':[conclusion]})],ignore_index=True)\n",
    "display(results_df)"
   ]
  },
  {
   "cell_type": "markdown",
   "id": "405ee45d-90a7-4992-a4a2-3d05eee50ac0",
   "metadata": {},
   "source": [
    "<font color=\"blue\">The results given by chi-square test agrees with what we observed from mosaic charts. We can proceed removing those non related features to our target."
   ]
  },
  {
   "cell_type": "code",
   "execution_count": 34,
   "id": "7867da45-4f87-4a34-bfd3-f37a1a61a26a",
   "metadata": {},
   "outputs": [
    {
     "data": {
      "text/html": [
       "<div>\n",
       "<style scoped>\n",
       "    .dataframe tbody tr th:only-of-type {\n",
       "        vertical-align: middle;\n",
       "    }\n",
       "\n",
       "    .dataframe tbody tr th {\n",
       "        vertical-align: top;\n",
       "    }\n",
       "\n",
       "    .dataframe thead th {\n",
       "        text-align: right;\n",
       "    }\n",
       "</style>\n",
       "<table border=\"1\" class=\"dataframe\">\n",
       "  <thead>\n",
       "    <tr style=\"text-align: right;\">\n",
       "      <th></th>\n",
       "      <th>id</th>\n",
       "      <th>active</th>\n",
       "      <th>alco</th>\n",
       "      <th>cholesterol</th>\n",
       "      <th>gluc</th>\n",
       "      <th>smoke</th>\n",
       "      <th>disease</th>\n",
       "      <th>ap_pulse</th>\n",
       "      <th>ap_map</th>\n",
       "      <th>BMI</th>\n",
       "      <th>age_group</th>\n",
       "    </tr>\n",
       "  </thead>\n",
       "  <tbody>\n",
       "    <tr>\n",
       "      <th>0</th>\n",
       "      <td>0</td>\n",
       "      <td>1</td>\n",
       "      <td>0</td>\n",
       "      <td>1</td>\n",
       "      <td>1</td>\n",
       "      <td>0</td>\n",
       "      <td>0</td>\n",
       "      <td>1</td>\n",
       "      <td>2</td>\n",
       "      <td>1</td>\n",
       "      <td>4</td>\n",
       "    </tr>\n",
       "    <tr>\n",
       "      <th>1</th>\n",
       "      <td>1</td>\n",
       "      <td>1</td>\n",
       "      <td>0</td>\n",
       "      <td>3</td>\n",
       "      <td>1</td>\n",
       "      <td>0</td>\n",
       "      <td>1</td>\n",
       "      <td>2</td>\n",
       "      <td>4</td>\n",
       "      <td>3</td>\n",
       "      <td>5</td>\n",
       "    </tr>\n",
       "  </tbody>\n",
       "</table>\n",
       "</div>"
      ],
      "text/plain": [
       "   id  active  alco  cholesterol  gluc  smoke  disease ap_pulse ap_map BMI  \\\n",
       "0   0       1     0            1     1      0        0        1      2   1   \n",
       "1   1       1     0            3     1      0        1        2      4   3   \n",
       "\n",
       "  age_group  \n",
       "0         4  \n",
       "1         5  "
      ]
     },
     "execution_count": 34,
     "metadata": {},
     "output_type": "execute_result"
    }
   ],
   "source": [
    "cardio = cardio.drop(['country','gender','occupation'],axis=1)\n",
    "cardio.head(2)"
   ]
  },
  {
   "cell_type": "markdown",
   "id": "fdbb49d0-e0ee-4619-a3da-b55b4d560494",
   "metadata": {},
   "source": [
    "<font color=\"blue\">We will also remove 'id' column as it has no use in building models."
   ]
  },
  {
   "cell_type": "code",
   "execution_count": 35,
   "id": "dd92f4f2-ffd1-4e19-99a2-61b958b1b8d9",
   "metadata": {},
   "outputs": [
    {
     "data": {
      "text/html": [
       "<div>\n",
       "<style scoped>\n",
       "    .dataframe tbody tr th:only-of-type {\n",
       "        vertical-align: middle;\n",
       "    }\n",
       "\n",
       "    .dataframe tbody tr th {\n",
       "        vertical-align: top;\n",
       "    }\n",
       "\n",
       "    .dataframe thead th {\n",
       "        text-align: right;\n",
       "    }\n",
       "</style>\n",
       "<table border=\"1\" class=\"dataframe\">\n",
       "  <thead>\n",
       "    <tr style=\"text-align: right;\">\n",
       "      <th></th>\n",
       "      <th>active</th>\n",
       "      <th>alco</th>\n",
       "      <th>cholesterol</th>\n",
       "      <th>gluc</th>\n",
       "      <th>smoke</th>\n",
       "      <th>disease</th>\n",
       "      <th>ap_pulse</th>\n",
       "      <th>ap_map</th>\n",
       "      <th>BMI</th>\n",
       "      <th>age_group</th>\n",
       "    </tr>\n",
       "  </thead>\n",
       "  <tbody>\n",
       "    <tr>\n",
       "      <th>0</th>\n",
       "      <td>1</td>\n",
       "      <td>0</td>\n",
       "      <td>1</td>\n",
       "      <td>1</td>\n",
       "      <td>0</td>\n",
       "      <td>0</td>\n",
       "      <td>1</td>\n",
       "      <td>2</td>\n",
       "      <td>1</td>\n",
       "      <td>4</td>\n",
       "    </tr>\n",
       "    <tr>\n",
       "      <th>1</th>\n",
       "      <td>1</td>\n",
       "      <td>0</td>\n",
       "      <td>3</td>\n",
       "      <td>1</td>\n",
       "      <td>0</td>\n",
       "      <td>1</td>\n",
       "      <td>2</td>\n",
       "      <td>4</td>\n",
       "      <td>3</td>\n",
       "      <td>5</td>\n",
       "    </tr>\n",
       "    <tr>\n",
       "      <th>2</th>\n",
       "      <td>0</td>\n",
       "      <td>0</td>\n",
       "      <td>3</td>\n",
       "      <td>1</td>\n",
       "      <td>0</td>\n",
       "      <td>1</td>\n",
       "      <td>3</td>\n",
       "      <td>2</td>\n",
       "      <td>1</td>\n",
       "      <td>4</td>\n",
       "    </tr>\n",
       "    <tr>\n",
       "      <th>3</th>\n",
       "      <td>1</td>\n",
       "      <td>0</td>\n",
       "      <td>1</td>\n",
       "      <td>1</td>\n",
       "      <td>0</td>\n",
       "      <td>1</td>\n",
       "      <td>2</td>\n",
       "      <td>5</td>\n",
       "      <td>2</td>\n",
       "      <td>3</td>\n",
       "    </tr>\n",
       "    <tr>\n",
       "      <th>4</th>\n",
       "      <td>0</td>\n",
       "      <td>0</td>\n",
       "      <td>1</td>\n",
       "      <td>1</td>\n",
       "      <td>0</td>\n",
       "      <td>0</td>\n",
       "      <td>2</td>\n",
       "      <td>0</td>\n",
       "      <td>1</td>\n",
       "      <td>3</td>\n",
       "    </tr>\n",
       "  </tbody>\n",
       "</table>\n",
       "</div>"
      ],
      "text/plain": [
       "   active  alco  cholesterol  gluc  smoke  disease ap_pulse ap_map BMI  \\\n",
       "0       1     0            1     1      0        0        1      2   1   \n",
       "1       1     0            3     1      0        1        2      4   3   \n",
       "2       0     0            3     1      0        1        3      2   1   \n",
       "3       1     0            1     1      0        1        2      5   2   \n",
       "4       0     0            1     1      0        0        2      0   1   \n",
       "\n",
       "  age_group  \n",
       "0         4  \n",
       "1         5  \n",
       "2         4  \n",
       "3         3  \n",
       "4         3  "
      ]
     },
     "execution_count": 35,
     "metadata": {},
     "output_type": "execute_result"
    }
   ],
   "source": [
    "cardio = cardio.drop(['id'],axis=1)\n",
    "cardio.head(5)"
   ]
  },
  {
   "cell_type": "code",
   "execution_count": 39,
   "id": "36443dc2-8f68-4a87-91fc-bec6c0f5d54e",
   "metadata": {},
   "outputs": [
    {
     "data": {
      "text/plain": [
       "(60142, 10)"
      ]
     },
     "execution_count": 39,
     "metadata": {},
     "output_type": "execute_result"
    }
   ],
   "source": [
    "cardio.shape"
   ]
  },
  {
   "cell_type": "markdown",
   "id": "49a4e881-0a7a-4f82-b08f-405068d46b40",
   "metadata": {},
   "source": [
    "<font color=\"blue\">We will convert categorical labels into numerical labels, which can then be used as input for various machine learning algorithms including neural networks."
   ]
  },
  {
   "cell_type": "markdown",
   "id": "2d80a89e-d37e-48cb-bdbf-1c182af0cd5f",
   "metadata": {},
   "source": [
    "# 4. Clustering"
   ]
  },
  {
   "cell_type": "markdown",
   "id": "4e6cbc0b-ee1e-4b7c-bfa3-c717cefc0d41",
   "metadata": {},
   "source": [
    "<font color=\"blue\">In addition to improve accuracy, we will introduce new feature by using Clustering technique in data preprocessing. \n",
    "\n",
    "<font color=\"blue\">For categorical data, we will use \n",
    "KMode thats is a clustering algorithm used for clustering categorical data. Unlike traditional clustering algorithms like KMeans that work with numerical data, KModes is designed to handle categorical variables directly. It is based on the k-modes algorithm, which aims to partition the data into clusters of similar items where the similarity is measured by the number of matching categories between data points."
   ]
  },
  {
   "cell_type": "code",
   "execution_count": null,
   "id": "0d6372aa-e7f9-48b6-942c-0062d89b4016",
   "metadata": {},
   "outputs": [],
   "source": [
    "from kmodes.kmodes import KModes"
   ]
  },
  {
   "cell_type": "code",
   "execution_count": null,
   "id": "dd77a5d0-de0c-45ae-9a30-cf733336bd40",
   "metadata": {},
   "outputs": [],
   "source": [
    "cost = []\n",
    "num_clusters = range(1,6) # 1 to 5\n",
    "for i in list(num_clusters):\n",
    "    kmode = KModes(n_clusters=i, init = \"Huang\", n_init = 5, verbose=0,random_state=1)\n",
    "    kmode.fit_predict(cardio)\n",
    "    cost.append(kmode.cost_)"
   ]
  },
  {
   "cell_type": "markdown",
   "id": "29a16156-22e2-4358-8ae7-97f640a189e5",
   "metadata": {},
   "source": [
    "To find the optimal number of clusters, elbow curve method will be used."
   ]
  },
  {
   "cell_type": "code",
   "execution_count": null,
   "id": "0ff054ca-a858-4e29-9f8a-86563953c73d",
   "metadata": {},
   "outputs": [],
   "source": [
    "plt.plot(num_clusters, cost, 'bo-')\n",
    "plt.xlabel('num_clusters')\n",
    "plt.ylabel('Cost')\n",
    "plt.title('Elbow Method For Optimal Number of Clusters')\n",
    "plt.show()"
   ]
  },
  {
   "cell_type": "code",
   "execution_count": null,
   "id": "be2cbad1-b033-4559-9da3-540f3ce56497",
   "metadata": {},
   "outputs": [],
   "source": [
    "#Building KModes model\n",
    "km = KModes(n_clusters=5, init = \"Huang\", n_init = 5,random_state=1)\n",
    "clusters = km.fit_predict(cardio)\n",
    "clusters"
   ]
  },
  {
   "cell_type": "code",
   "execution_count": null,
   "id": "4b672238-8a1e-4caa-9630-ddcdbb209539",
   "metadata": {},
   "outputs": [],
   "source": [
    "# Adding Clusters feature in data\n",
    "cardio.insert(0,\"clusters\",clusters,True)\n",
    "\n",
    "cardio.head()"
   ]
  },
  {
   "cell_type": "code",
   "execution_count": null,
   "id": "bcd57dfb-da99-493d-bfa6-9095e66ac872",
   "metadata": {
    "scrolled": true
   },
   "outputs": [],
   "source": [
    "# Set up figure\n",
    "plt.figure(figsize=(10, 8))\n",
    "\n",
    "# Draw correlation matrix\n",
    "sns.heatmap(cardio.corr(), annot=True, cmap='Spectral', fmt=\".2f\", linewidths=.5)\n",
    "\n",
    "# Show the figure\n",
    "plt.title('Correlation Matrix')\n",
    "plt.show()"
   ]
  },
  {
   "cell_type": "markdown",
   "id": "3d3fed1f-048a-49d6-882c-124409f61f32",
   "metadata": {},
   "source": [
    "# 5. Label Encoder"
   ]
  },
  {
   "cell_type": "markdown",
   "id": "70828d50-115a-4d86-bdd3-b8e68edd0451",
   "metadata": {},
   "source": [
    "We will convert categorical labels into numerical labels, which can then be used as input for various machine learning algorithms including neural networks."
   ]
  },
  {
   "cell_type": "code",
   "execution_count": null,
   "id": "1c8b6128-e41d-403e-bd04-fe8d9f71a424",
   "metadata": {},
   "outputs": [],
   "source": [
    "from sklearn import preprocessing"
   ]
  },
  {
   "cell_type": "code",
   "execution_count": null,
   "id": "b0785ca1-9a5a-48af-9444-f076fbb4447b",
   "metadata": {},
   "outputs": [],
   "source": [
    "le = preprocessing.LabelEncoder()\n",
    "cardio = cardio.apply(le.fit_transform)\n",
    "cardio.describe()"
   ]
  },
  {
   "cell_type": "markdown",
   "id": "9494d054-9690-438e-a6d4-0e3e81a836ca",
   "metadata": {},
   "source": [
    "# 6. Saving Final Dataset"
   ]
  },
  {
   "cell_type": "code",
   "execution_count": 36,
   "id": "de0c1088-c899-4405-b73d-dd5599ef2389",
   "metadata": {},
   "outputs": [
    {
     "data": {
      "text/plain": [
       "(60142, 10)"
      ]
     },
     "execution_count": 36,
     "metadata": {},
     "output_type": "execute_result"
    }
   ],
   "source": [
    "cardio.shape"
   ]
  },
  {
   "cell_type": "markdown",
   "id": "3ffaaa20-de14-4734-9474-63e0c3f4013f",
   "metadata": {},
   "source": [
    "<font color=\"blue\">Our final dataset would have 60142 rows and 11 columns."
   ]
  },
  {
   "cell_type": "code",
   "execution_count": 37,
   "id": "99cdc624-9eb1-4466-9087-43098a79f389",
   "metadata": {},
   "outputs": [
    {
     "data": {
      "text/html": [
       "<div>\n",
       "<style scoped>\n",
       "    .dataframe tbody tr th:only-of-type {\n",
       "        vertical-align: middle;\n",
       "    }\n",
       "\n",
       "    .dataframe tbody tr th {\n",
       "        vertical-align: top;\n",
       "    }\n",
       "\n",
       "    .dataframe thead th {\n",
       "        text-align: right;\n",
       "    }\n",
       "</style>\n",
       "<table border=\"1\" class=\"dataframe\">\n",
       "  <thead>\n",
       "    <tr style=\"text-align: right;\">\n",
       "      <th></th>\n",
       "      <th>active</th>\n",
       "      <th>alco</th>\n",
       "      <th>cholesterol</th>\n",
       "      <th>gluc</th>\n",
       "      <th>smoke</th>\n",
       "      <th>disease</th>\n",
       "      <th>ap_pulse</th>\n",
       "      <th>ap_map</th>\n",
       "      <th>BMI</th>\n",
       "      <th>age_group</th>\n",
       "    </tr>\n",
       "  </thead>\n",
       "  <tbody>\n",
       "    <tr>\n",
       "      <th>0</th>\n",
       "      <td>1</td>\n",
       "      <td>0</td>\n",
       "      <td>1</td>\n",
       "      <td>1</td>\n",
       "      <td>0</td>\n",
       "      <td>0</td>\n",
       "      <td>1</td>\n",
       "      <td>2</td>\n",
       "      <td>1</td>\n",
       "      <td>4</td>\n",
       "    </tr>\n",
       "  </tbody>\n",
       "</table>\n",
       "</div>"
      ],
      "text/plain": [
       "   active  alco  cholesterol  gluc  smoke  disease ap_pulse ap_map BMI  \\\n",
       "0       1     0            1     1      0        0        1      2   1   \n",
       "\n",
       "  age_group  \n",
       "0         4  "
      ]
     },
     "execution_count": 37,
     "metadata": {},
     "output_type": "execute_result"
    }
   ],
   "source": [
    "cardio.head(1)"
   ]
  },
  {
   "cell_type": "code",
   "execution_count": 38,
   "id": "2c14e725-0b18-44a1-9551-587dcf1de5d2",
   "metadata": {},
   "outputs": [],
   "source": [
    "cardio.to_csv('cardio_cleaned_ClusterAfterSplit.csv', index=False) #saving cleaned dataset for model building"
   ]
  }
 ],
 "metadata": {
  "kernelspec": {
   "display_name": "Python 3 (ipykernel)",
   "language": "python",
   "name": "python3"
  },
  "language_info": {
   "codemirror_mode": {
    "name": "ipython",
    "version": 3
   },
   "file_extension": ".py",
   "mimetype": "text/x-python",
   "name": "python",
   "nbconvert_exporter": "python",
   "pygments_lexer": "ipython3",
   "version": "3.11.5"
  }
 },
 "nbformat": 4,
 "nbformat_minor": 5
}
